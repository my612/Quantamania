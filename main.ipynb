{
  "nbformat": 4,
  "nbformat_minor": 0,
  "metadata": {
    "colab": {
      "provenance": [],
      "include_colab_link": true
    },
    "kernelspec": {
      "name": "python3",
      "display_name": "Python 3"
    },
    "language_info": {
      "name": "python"
    }
  },
  "cells": [
    {
      "cell_type": "markdown",
      "metadata": {
        "id": "view-in-github",
        "colab_type": "text"
      },
      "source": [
        "<a href=\"https://colab.research.google.com/github/my612/Quantamania/blob/main/main.ipynb\" target=\"_parent\"><img src=\"https://colab.research.google.com/assets/colab-badge.svg\" alt=\"Open In Colab\"/></a>"
      ]
    },
    {
      "cell_type": "code",
      "execution_count": null,
      "metadata": {
        "colab": {
          "base_uri": "https://localhost:8080/"
        },
        "id": "O0sQSJERKcib",
        "outputId": "15d4d046-47e3-4a0c-f69a-11fd0f0ebc56"
      },
      "outputs": [
        {
          "output_type": "stream",
          "name": "stdout",
          "text": [
            "QUBO Matrix:\n",
            "[[-60.  20.  20.  20.   1.   0.  20.   2.   0.]\n",
            " [  0. -60.  20.   0.  20.   1.   0.  20.   2.]\n",
            " [  0.   0. -60.   0.   0.  20.   0.   0.  20.]\n",
            " [  0.   1.   0. -60.  20.  20.  20.   3.   0.]\n",
            " [  0.   0.   1.   0. -60.  20.   0.  20.   3.]\n",
            " [  0.   0.   0.   0.   0. -60.   0.   0.  20.]\n",
            " [  0.   2.   0.   0.   3.   0. -60.  20.  20.]\n",
            " [  0.   0.   2.   0.   0.   3.   0. -60.  20.]\n",
            " [  0.   0.   0.   0.   0.   0.   0.   0. -60.]]\n"
          ]
        }
      ],
      "source": [
        "import numpy as np\n",
        "from itertools import product\n",
        "\n",
        "# Define the distance matrix (example: 3 cities)\n",
        "distance_matrix = np.array([\n",
        "    [0, 1, 2],  # Distances from city 0\n",
        "    [1, 0, 3],  # Distances from city 1\n",
        "    [2, 3, 0]   # Distances from city 2\n",
        "])\n",
        "\n",
        "# Number of cities\n",
        "n = distance_matrix.shape[0]\n",
        "\n",
        "# QUBO matrix initialization\n",
        "qubo_matrix = np.zeros((n**2, n**2))\n",
        "\n",
        "# Penalty weights\n",
        "P1 = 10  # Penalty for visiting a city more than once\n",
        "P2 = 10  # Penalty for assigning multiple cities to one position\n",
        "\n",
        "# Encode the objective function into QUBO\n",
        "for i, j, t in product(range(n), range(n), range(n - 1)):\n",
        "    if i != j:  # Avoid diagonal terms since d_ii = 0\n",
        "        index_1 = i * n + t\n",
        "        index_2 = j * n + (t + 1)\n",
        "        qubo_matrix[index_1, index_2] += distance_matrix[i, j]\n",
        "\n",
        "# Encode the constraints into QUBO\n",
        "# Constraint 1: Each city is visited exactly once\n",
        "for i in range(n):\n",
        "    for t in range(n):\n",
        "        index = i * n + t\n",
        "        qubo_matrix[index, index] += P1 * (1 - 2 * np.sum([1 if t2 != t else 0 for t2 in range(n)]))\n",
        "        for t2 in range(t + 1, n):\n",
        "            index_2 = i * n + t2\n",
        "            qubo_matrix[index, index_2] += 2 * P1\n",
        "\n",
        "# Constraint 2: Each position in the route is occupied by exactly one city\n",
        "for t in range(n):\n",
        "    for i in range(n):\n",
        "        index = i * n + t\n",
        "        qubo_matrix[index, index] += P2 * (1 - 2 * np.sum([1 if i2 != i else 0 for i2 in range(n)]))\n",
        "        for i2 in range(i + 1, n):\n",
        "            index_2 = i2 * n + t\n",
        "            qubo_matrix[index, index_2] += 2 * P2\n",
        "\n",
        "# Print the QUBO matrix\n",
        "print(\"QUBO Matrix:\")\n",
        "print(qubo_matrix)\n",
        "\n",
        "# Save QUBO matrix to file (optional)\n",
        "np.savetxt(\"qubo_matrix.txt\", qubo_matrix, fmt=\"%.2f\")\n"
      ]
    }
  ]
}