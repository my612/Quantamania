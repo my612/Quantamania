{
  "nbformat": 4,
  "nbformat_minor": 0,
  "metadata": {
    "colab": {
      "provenance": [],
      "include_colab_link": true
    },
    "kernelspec": {
      "name": "python3",
      "display_name": "Python 3"
    },
    "language_info": {
      "name": "python"
    }
  },
  "cells": [
    {
      "cell_type": "markdown",
      "metadata": {
        "id": "view-in-github",
        "colab_type": "text"
      },
      "source": [
        "<a href=\"https://colab.research.google.com/github/my612/Quantamania/blob/main/quant.ipynb\" target=\"_parent\"><img src=\"https://colab.research.google.com/assets/colab-badge.svg\" alt=\"Open In Colab\"/></a>"
      ]
    },
    {
      "cell_type": "code",
      "execution_count": 8,
      "metadata": {
        "id": "X2yaqXwUniWM",
        "collapsed": true,
        "outputId": "6079223f-3273-4fc7-b0f8-5011bd55980a",
        "colab": {
          "base_uri": "https://localhost:8080/"
        }
      },
      "outputs": [
        {
          "output_type": "stream",
          "name": "stdout",
          "text": [
            "Requirement already satisfied: qiskit_optimization in /usr/local/lib/python3.10/dist-packages (0.6.1)\n",
            "Requirement already satisfied: qiskit>=0.44 in /usr/local/lib/python3.10/dist-packages (from qiskit_optimization) (1.3.1)\n",
            "Requirement already satisfied: qiskit-algorithms>=0.2.0 in /usr/local/lib/python3.10/dist-packages (from qiskit_optimization) (0.3.1)\n",
            "Requirement already satisfied: scipy>=1.9.0 in /usr/local/lib/python3.10/dist-packages (from qiskit_optimization) (1.13.1)\n",
            "Requirement already satisfied: numpy>=1.17 in /usr/local/lib/python3.10/dist-packages (from qiskit_optimization) (1.26.4)\n",
            "Requirement already satisfied: docplex!=2.24.231,>=2.21.207 in /usr/local/lib/python3.10/dist-packages (from qiskit_optimization) (2.29.241)\n",
            "Requirement already satisfied: setuptools>=40.1.0 in /usr/local/lib/python3.10/dist-packages (from qiskit_optimization) (75.1.0)\n",
            "Requirement already satisfied: networkx>=2.6.3 in /usr/local/lib/python3.10/dist-packages (from qiskit_optimization) (3.4.2)\n",
            "Requirement already satisfied: six in /usr/local/lib/python3.10/dist-packages (from docplex!=2.24.231,>=2.21.207->qiskit_optimization) (1.17.0)\n",
            "Requirement already satisfied: rustworkx>=0.15.0 in /usr/local/lib/python3.10/dist-packages (from qiskit>=0.44->qiskit_optimization) (0.15.1)\n",
            "Requirement already satisfied: sympy>=1.3 in /usr/local/lib/python3.10/dist-packages (from qiskit>=0.44->qiskit_optimization) (1.13.1)\n",
            "Requirement already satisfied: dill>=0.3 in /usr/local/lib/python3.10/dist-packages (from qiskit>=0.44->qiskit_optimization) (0.3.9)\n",
            "Requirement already satisfied: python-dateutil>=2.8.0 in /usr/local/lib/python3.10/dist-packages (from qiskit>=0.44->qiskit_optimization) (2.8.2)\n",
            "Requirement already satisfied: stevedore>=3.0.0 in /usr/local/lib/python3.10/dist-packages (from qiskit>=0.44->qiskit_optimization) (5.4.0)\n",
            "Requirement already satisfied: typing-extensions in /usr/local/lib/python3.10/dist-packages (from qiskit>=0.44->qiskit_optimization) (4.12.2)\n",
            "Requirement already satisfied: symengine<0.14,>=0.11 in /usr/local/lib/python3.10/dist-packages (from qiskit>=0.44->qiskit_optimization) (0.13.0)\n",
            "Requirement already satisfied: pbr>=2.0.0 in /usr/local/lib/python3.10/dist-packages (from stevedore>=3.0.0->qiskit>=0.44->qiskit_optimization) (6.1.0)\n",
            "Requirement already satisfied: mpmath<1.4,>=1.1.0 in /usr/local/lib/python3.10/dist-packages (from sympy>=1.3->qiskit>=0.44->qiskit_optimization) (1.3.0)\n",
            "Collecting dimod\n",
            "  Downloading dimod-0.12.18-cp310-cp310-manylinux_2_17_x86_64.manylinux2014_x86_64.whl.metadata (4.0 kB)\n",
            "Requirement already satisfied: numpy>=1.17.3 in /usr/local/lib/python3.10/dist-packages (from dimod) (1.26.4)\n",
            "Downloading dimod-0.12.18-cp310-cp310-manylinux_2_17_x86_64.manylinux2014_x86_64.whl (9.0 MB)\n",
            "\u001b[2K   \u001b[90m━━━━━━━━━━━━━━━━━━━━━━━━━━━━━━━━━━━━━━━━\u001b[0m \u001b[32m9.0/9.0 MB\u001b[0m \u001b[31m43.3 MB/s\u001b[0m eta \u001b[36m0:00:00\u001b[0m\n",
            "\u001b[?25hInstalling collected packages: dimod\n",
            "Successfully installed dimod-0.12.18\n",
            "Collecting dwave-ocean-sdk\n",
            "  Downloading dwave_ocean_sdk-8.1.0-py3-none-any.whl.metadata (5.5 kB)\n",
            "Requirement already satisfied: dimod==0.12.18 in /usr/local/lib/python3.10/dist-packages (from dwave-ocean-sdk) (0.12.18)\n",
            "Collecting dwave-cloud-client==0.13.2 (from dwave-ocean-sdk)\n",
            "  Downloading dwave_cloud_client-0.13.2-py3-none-any.whl.metadata (5.2 kB)\n",
            "Collecting dwave-gate==0.3.3 (from dwave-ocean-sdk)\n",
            "  Downloading dwave_gate-0.3.3-cp310-cp310-manylinux_2_17_x86_64.manylinux2014_x86_64.whl.metadata (18 kB)\n",
            "Collecting dwave-hybrid==0.6.13 (from dwave-ocean-sdk)\n",
            "  Downloading dwave_hybrid-0.6.13-py3-none-any.whl.metadata (4.3 kB)\n",
            "Collecting dwave-inspector==0.5.2 (from dwave-ocean-sdk)\n",
            "  Downloading dwave_inspector-0.5.2-py3-none-any.whl.metadata (4.4 kB)\n",
            "Collecting dwave-networkx==0.8.16 (from dwave-ocean-sdk)\n",
            "  Downloading dwave_networkx-0.8.16-py3-none-any.whl.metadata (2.6 kB)\n",
            "Collecting dwave-optimization==0.4.2 (from dwave-ocean-sdk)\n",
            "  Downloading dwave_optimization-0.4.2-cp310-cp310-manylinux_2_24_x86_64.manylinux_2_28_x86_64.whl.metadata (18 kB)\n",
            "Collecting dwave-preprocessing==0.6.7 (from dwave-ocean-sdk)\n",
            "  Downloading dwave_preprocessing-0.6.7-cp310-cp310-manylinux_2_17_x86_64.manylinux2014_x86_64.whl.metadata (3.6 kB)\n",
            "Collecting dwave-samplers==1.4.0 (from dwave-ocean-sdk)\n",
            "  Downloading dwave_samplers-1.4.0-cp310-cp310-manylinux_2_17_x86_64.manylinux2014_x86_64.whl.metadata (9.9 kB)\n",
            "Collecting dwave-system==1.28.0 (from dwave-ocean-sdk)\n",
            "  Downloading dwave_system-1.28.0-py3-none-any.whl.metadata (3.2 kB)\n",
            "Collecting dwavebinarycsp==0.3.1 (from dwave-ocean-sdk)\n",
            "  Downloading dwavebinarycsp-0.3.1-py3-none-any.whl.metadata (3.0 kB)\n",
            "Collecting minorminer==0.2.16 (from dwave-ocean-sdk)\n",
            "  Downloading minorminer-0.2.16-cp310-cp310-manylinux_2_17_x86_64.manylinux2014_x86_64.whl.metadata (20 kB)\n",
            "Collecting penaltymodel==1.2.0 (from dwave-ocean-sdk)\n",
            "  Downloading penaltymodel-1.2.0-py3-none-any.whl.metadata (6.5 kB)\n",
            "Requirement already satisfied: numpy>=1.17.3 in /usr/local/lib/python3.10/dist-packages (from dimod==0.12.18->dwave-ocean-sdk) (1.26.4)\n",
            "Requirement already satisfied: requests<3,>=2.25 in /usr/local/lib/python3.10/dist-packages (from requests[socks]<3,>=2.25->dwave-cloud-client==0.13.2->dwave-ocean-sdk) (2.32.3)\n",
            "Requirement already satisfied: urllib3<3,>=1.26 in /usr/local/lib/python3.10/dist-packages (from dwave-cloud-client==0.13.2->dwave-ocean-sdk) (2.3.0)\n",
            "Requirement already satisfied: pydantic<3,>=2 in /usr/local/lib/python3.10/dist-packages (from dwave-cloud-client==0.13.2->dwave-ocean-sdk) (2.10.4)\n",
            "Collecting homebase<2,>=1.0 (from dwave-cloud-client==0.13.2->dwave-ocean-sdk)\n",
            "  Downloading homebase-1.0.1-py2.py3-none-any.whl.metadata (3.3 kB)\n",
            "Requirement already satisfied: click<9,>=7.0 in /usr/local/lib/python3.10/dist-packages (from dwave-cloud-client==0.13.2->dwave-ocean-sdk) (8.1.8)\n",
            "Requirement already satisfied: python-dateutil<3,>=2.7 in /usr/local/lib/python3.10/dist-packages (from dwave-cloud-client==0.13.2->dwave-ocean-sdk) (2.8.2)\n",
            "Collecting plucky<0.5,>=0.4.3 (from dwave-cloud-client==0.13.2->dwave-ocean-sdk)\n",
            "  Downloading plucky-0.4.3-py2.py3-none-any.whl.metadata (4.4 kB)\n",
            "Collecting diskcache<6,>=5.2.1 (from dwave-cloud-client==0.13.2->dwave-ocean-sdk)\n",
            "  Downloading diskcache-5.6.3-py3-none-any.whl.metadata (20 kB)\n",
            "Requirement already satisfied: packaging>=19 in /usr/local/lib/python3.10/dist-packages (from dwave-cloud-client==0.13.2->dwave-ocean-sdk) (24.2)\n",
            "Requirement already satisfied: werkzeug<4,>=2.2 in /usr/local/lib/python3.10/dist-packages (from dwave-cloud-client==0.13.2->dwave-ocean-sdk) (3.1.3)\n",
            "Requirement already satisfied: typing-extensions<5,>=4.5.0 in /usr/local/lib/python3.10/dist-packages (from dwave-cloud-client==0.13.2->dwave-ocean-sdk) (4.12.2)\n",
            "Collecting authlib<2,>=1.2 (from dwave-cloud-client==0.13.2->dwave-ocean-sdk)\n",
            "  Downloading Authlib-1.4.0-py2.py3-none-any.whl.metadata (3.9 kB)\n",
            "Requirement already satisfied: importlib_metadata>=5.0.0 in /usr/local/lib/python3.10/dist-packages (from dwave-cloud-client==0.13.2->dwave-ocean-sdk) (8.5.0)\n",
            "Requirement already satisfied: orjson>=3.10 in /usr/local/lib/python3.10/dist-packages (from dwave-cloud-client==0.13.2->dwave-ocean-sdk) (3.10.13)\n",
            "Requirement already satisfied: networkx in /usr/local/lib/python3.10/dist-packages (from dwave-hybrid==0.6.13->dwave-ocean-sdk) (3.4.2)\n",
            "Requirement already satisfied: Flask<4,>=2.2 in /usr/local/lib/python3.10/dist-packages (from dwave-inspector==0.5.2->dwave-ocean-sdk) (3.1.0)\n",
            "Requirement already satisfied: scipy>=1.7.3 in /usr/local/lib/python3.10/dist-packages (from dwave-system==1.28.0->dwave-ocean-sdk) (1.13.1)\n",
            "Collecting fasteners>=0.15 (from minorminer==0.2.16->dwave-ocean-sdk)\n",
            "  Downloading fasteners-0.19-py3-none-any.whl.metadata (4.9 kB)\n",
            "Requirement already satisfied: cryptography in /usr/local/lib/python3.10/dist-packages (from authlib<2,>=1.2->dwave-cloud-client==0.13.2->dwave-ocean-sdk) (43.0.3)\n",
            "Requirement already satisfied: Jinja2>=3.1.2 in /usr/local/lib/python3.10/dist-packages (from Flask<4,>=2.2->dwave-inspector==0.5.2->dwave-ocean-sdk) (3.1.5)\n",
            "Requirement already satisfied: itsdangerous>=2.2 in /usr/local/lib/python3.10/dist-packages (from Flask<4,>=2.2->dwave-inspector==0.5.2->dwave-ocean-sdk) (2.2.0)\n",
            "Requirement already satisfied: blinker>=1.9 in /usr/local/lib/python3.10/dist-packages (from Flask<4,>=2.2->dwave-inspector==0.5.2->dwave-ocean-sdk) (1.9.0)\n",
            "Requirement already satisfied: zipp>=3.20 in /usr/local/lib/python3.10/dist-packages (from importlib_metadata>=5.0.0->dwave-cloud-client==0.13.2->dwave-ocean-sdk) (3.21.0)\n",
            "Requirement already satisfied: annotated-types>=0.6.0 in /usr/local/lib/python3.10/dist-packages (from pydantic<3,>=2->dwave-cloud-client==0.13.2->dwave-ocean-sdk) (0.7.0)\n",
            "Requirement already satisfied: pydantic-core==2.27.2 in /usr/local/lib/python3.10/dist-packages (from pydantic<3,>=2->dwave-cloud-client==0.13.2->dwave-ocean-sdk) (2.27.2)\n",
            "Requirement already satisfied: six>=1.5 in /usr/local/lib/python3.10/dist-packages (from python-dateutil<3,>=2.7->dwave-cloud-client==0.13.2->dwave-ocean-sdk) (1.17.0)\n",
            "Requirement already satisfied: charset-normalizer<4,>=2 in /usr/local/lib/python3.10/dist-packages (from requests<3,>=2.25->requests[socks]<3,>=2.25->dwave-cloud-client==0.13.2->dwave-ocean-sdk) (3.4.1)\n",
            "Requirement already satisfied: idna<4,>=2.5 in /usr/local/lib/python3.10/dist-packages (from requests<3,>=2.25->requests[socks]<3,>=2.25->dwave-cloud-client==0.13.2->dwave-ocean-sdk) (3.10)\n",
            "Requirement already satisfied: certifi>=2017.4.17 in /usr/local/lib/python3.10/dist-packages (from requests<3,>=2.25->requests[socks]<3,>=2.25->dwave-cloud-client==0.13.2->dwave-ocean-sdk) (2024.12.14)\n",
            "Requirement already satisfied: PySocks!=1.5.7,>=1.5.6 in /usr/local/lib/python3.10/dist-packages (from requests[socks]<3,>=2.25->dwave-cloud-client==0.13.2->dwave-ocean-sdk) (1.7.1)\n",
            "Requirement already satisfied: MarkupSafe>=2.1.1 in /usr/local/lib/python3.10/dist-packages (from werkzeug<4,>=2.2->dwave-cloud-client==0.13.2->dwave-ocean-sdk) (3.0.2)\n",
            "Requirement already satisfied: cffi>=1.12 in /usr/local/lib/python3.10/dist-packages (from cryptography->authlib<2,>=1.2->dwave-cloud-client==0.13.2->dwave-ocean-sdk) (1.17.1)\n",
            "Requirement already satisfied: pycparser in /usr/local/lib/python3.10/dist-packages (from cffi>=1.12->cryptography->authlib<2,>=1.2->dwave-cloud-client==0.13.2->dwave-ocean-sdk) (2.22)\n",
            "Downloading dwave_ocean_sdk-8.1.0-py3-none-any.whl (8.3 kB)\n",
            "Downloading dwave_cloud_client-0.13.2-py3-none-any.whl (158 kB)\n",
            "\u001b[2K   \u001b[90m━━━━━━━━━━━━━━━━━━━━━━━━━━━━━━━━━━━━━━━━\u001b[0m \u001b[32m158.6/158.6 kB\u001b[0m \u001b[31m5.8 MB/s\u001b[0m eta \u001b[36m0:00:00\u001b[0m\n",
            "\u001b[?25hDownloading dwave_gate-0.3.3-cp310-cp310-manylinux_2_17_x86_64.manylinux2014_x86_64.whl (1.5 MB)\n",
            "\u001b[2K   \u001b[90m━━━━━━━━━━━━━━━━━━━━━━━━━━━━━━━━━━━━━━━━\u001b[0m \u001b[32m1.5/1.5 MB\u001b[0m \u001b[31m41.6 MB/s\u001b[0m eta \u001b[36m0:00:00\u001b[0m\n",
            "\u001b[?25hDownloading dwave_hybrid-0.6.13-py3-none-any.whl (78 kB)\n",
            "\u001b[2K   \u001b[90m━━━━━━━━━━━━━━━━━━━━━━━━━━━━━━━━━━━━━━━━\u001b[0m \u001b[32m78.3/78.3 kB\u001b[0m \u001b[31m9.5 MB/s\u001b[0m eta \u001b[36m0:00:00\u001b[0m\n",
            "\u001b[?25hDownloading dwave_inspector-0.5.2-py3-none-any.whl (30 kB)\n",
            "Downloading dwave_networkx-0.8.16-py3-none-any.whl (103 kB)\n",
            "\u001b[2K   \u001b[90m━━━━━━━━━━━━━━━━━━━━━━━━━━━━━━━━━━━━━━━━\u001b[0m \u001b[32m103.7/103.7 kB\u001b[0m \u001b[31m10.9 MB/s\u001b[0m eta \u001b[36m0:00:00\u001b[0m\n",
            "\u001b[?25hDownloading dwave_optimization-0.4.2-cp310-cp310-manylinux_2_24_x86_64.manylinux_2_28_x86_64.whl (2.6 MB)\n",
            "\u001b[2K   \u001b[90m━━━━━━━━━━━━━━━━━━━━━━━━━━━━━━━━━━━━━━━━\u001b[0m \u001b[32m2.6/2.6 MB\u001b[0m \u001b[31m80.4 MB/s\u001b[0m eta \u001b[36m0:00:00\u001b[0m\n",
            "\u001b[?25hDownloading dwave_preprocessing-0.6.7-cp310-cp310-manylinux_2_17_x86_64.manylinux2014_x86_64.whl (3.3 MB)\n",
            "\u001b[2K   \u001b[90m━━━━━━━━━━━━━━━━━━━━━━━━━━━━━━━━━━━━━━━━\u001b[0m \u001b[32m3.3/3.3 MB\u001b[0m \u001b[31m82.7 MB/s\u001b[0m eta \u001b[36m0:00:00\u001b[0m\n",
            "\u001b[?25hDownloading dwave_samplers-1.4.0-cp310-cp310-manylinux_2_17_x86_64.manylinux2014_x86_64.whl (6.7 MB)\n",
            "\u001b[2K   \u001b[90m━━━━━━━━━━━━━━━━━━━━━━━━━━━━━━━━━━━━━━━━\u001b[0m \u001b[32m6.7/6.7 MB\u001b[0m \u001b[31m102.7 MB/s\u001b[0m eta \u001b[36m0:00:00\u001b[0m\n",
            "\u001b[?25hDownloading dwave_system-1.28.0-py3-none-any.whl (100 kB)\n",
            "\u001b[2K   \u001b[90m━━━━━━━━━━━━━━━━━━━━━━━━━━━━━━━━━━━━━━━━\u001b[0m \u001b[32m100.5/100.5 kB\u001b[0m \u001b[31m11.3 MB/s\u001b[0m eta \u001b[36m0:00:00\u001b[0m\n",
            "\u001b[?25hDownloading dwavebinarycsp-0.3.1-py3-none-any.whl (35 kB)\n",
            "Downloading minorminer-0.2.16-cp310-cp310-manylinux_2_17_x86_64.manylinux2014_x86_64.whl (3.9 MB)\n",
            "\u001b[2K   \u001b[90m━━━━━━━━━━━━━━━━━━━━━━━━━━━━━━━━━━━━━━━━\u001b[0m \u001b[32m3.9/3.9 MB\u001b[0m \u001b[31m93.6 MB/s\u001b[0m eta \u001b[36m0:00:00\u001b[0m\n",
            "\u001b[?25hDownloading penaltymodel-1.2.0-py3-none-any.whl (36 kB)\n",
            "Downloading Authlib-1.4.0-py2.py3-none-any.whl (225 kB)\n",
            "\u001b[2K   \u001b[90m━━━━━━━━━━━━━━━━━━━━━━━━━━━━━━━━━━━━━━━━\u001b[0m \u001b[32m225.5/225.5 kB\u001b[0m \u001b[31m24.1 MB/s\u001b[0m eta \u001b[36m0:00:00\u001b[0m\n",
            "\u001b[?25hDownloading diskcache-5.6.3-py3-none-any.whl (45 kB)\n",
            "\u001b[2K   \u001b[90m━━━━━━━━━━━━━━━━━━━━━━━━━━━━━━━━━━━━━━━━\u001b[0m \u001b[32m45.5/45.5 kB\u001b[0m \u001b[31m4.0 MB/s\u001b[0m eta \u001b[36m0:00:00\u001b[0m\n",
            "\u001b[?25hDownloading fasteners-0.19-py3-none-any.whl (18 kB)\n",
            "Downloading homebase-1.0.1-py2.py3-none-any.whl (11 kB)\n",
            "Downloading plucky-0.4.3-py2.py3-none-any.whl (10 kB)\n",
            "Installing collected packages: plucky, homebase, fasteners, dwave-optimization, dwave-gate, diskcache, penaltymodel, dwave-samplers, dwave-preprocessing, dwave-networkx, minorminer, dwavebinarycsp, authlib, dwave-cloud-client, dwave-system, dwave-inspector, dwave-hybrid, dwave-ocean-sdk\n",
            "Successfully installed authlib-1.4.0 diskcache-5.6.3 dwave-cloud-client-0.13.2 dwave-gate-0.3.3 dwave-hybrid-0.6.13 dwave-inspector-0.5.2 dwave-networkx-0.8.16 dwave-ocean-sdk-8.1.0 dwave-optimization-0.4.2 dwave-preprocessing-0.6.7 dwave-samplers-1.4.0 dwave-system-1.28.0 dwavebinarycsp-0.3.1 fasteners-0.19 homebase-1.0.1 minorminer-0.2.16 penaltymodel-1.2.0 plucky-0.4.3\n"
          ]
        }
      ],
      "source": [
        "!pip install qiskit_optimization qiskit_algorithms\n",
        "!pip install dimod\n",
        "!pip install dwave-ocean-sdk"
      ]
    },
    {
      "cell_type": "code",
      "source": [
        "from dwave.system import DWaveSampler, EmbeddingComposite\n",
        "from dwave.samplers import SimulatedAnnealingSampler\n",
        "from qiskit_optimization import QuadraticProgram\n",
        "from qiskit_optimization.converters import QuadraticProgramToQubo\n",
        "from dimod import BinaryQuadraticModel"
      ],
      "metadata": {
        "id": "LZKVEzKQJ5oT"
      },
      "execution_count": 9,
      "outputs": []
    },
    {
      "cell_type": "code",
      "source": [
        "def TSP_as_ILP(dist_matrix, print_model = False):\n",
        "\n",
        "\n",
        "  mod = QuadraticProgram(\"TSP\")\n",
        "\n",
        "  num_cities = len(dist_matrix)\n",
        "\n",
        "  for i in range(num_cities):\n",
        "      for j in range(num_cities):\n",
        "          if i != j:\n",
        "              mod.binary_var(f\"x_{i}_{j}\")\n",
        "  for i in range(num_cities):\n",
        "      mod.linear_constraint(linear={f\"x_{i}_{j}\": 1 for j in range(num_cities) if i != j}, sense='==', rhs=1, name=f'out_{i}')\n",
        "      mod.linear_constraint(linear={f\"x_{j}_{i}\": 1 for j in range(num_cities) if i != j}, sense='==', rhs=1, name=f'in_{i}')\n",
        "  t = {}\n",
        "  for i in range(num_cities):\n",
        "      t[i] = mod.integer_var(lowerbound=0, upperbound=num_cities-1, name=f't_{i}')\n",
        "  for i in range(1, num_cities):  # t_0 is fixed to 0, so start from i=1\n",
        "      for j in range(1, num_cities):  # Ensure i != j\n",
        "          if i != j:\n",
        "              mod.linear_constraint(\n",
        "                  linear={f\"t_{j}\": 1, f\"t_{i}\": -1, f\"x_{i}_{j}\": -(num_cities - 1)},\n",
        "                  sense='>=',\n",
        "                  rhs=1 - (num_cities - 1),\n",
        "                  name=f\"subtour_{i}_{j}\"\n",
        "              )\n",
        "  obj = {}\n",
        "  for i in range(num_cities):\n",
        "    for j in range(num_cities):\n",
        "        if i != j:\n",
        "            obj[f\"x_{i}_{j}\"] = dist_matrix[i][j]\n",
        "  mod.minimize(linear=obj)\n",
        "  print(mod.prettyprint())\n",
        "  return mod\n"
      ],
      "metadata": {
        "id": "A3kDO4Tzn4uO"
      },
      "execution_count": 10,
      "outputs": []
    },
    {
      "cell_type": "code",
      "source": [
        "dist_matrix = [\n",
        "    [0, 2, 9, 10, 7],\n",
        "    [2, 0, 6, 4, 3],\n",
        "    [9, 6, 0, 8, 12],\n",
        "    [10, 4, 8, 0, 5],\n",
        "    [7, 3, 12, 5, 0]\n",
        "]\n",
        "\n",
        "model = TSP_as_ILP(dist_matrix, print_model=True)"
      ],
      "metadata": {
        "id": "sQTs2TQ4n8X0",
        "outputId": "3a941cce-49b7-4f73-e5ad-884cc3b98b82",
        "colab": {
          "base_uri": "https://localhost:8080/"
        }
      },
      "execution_count": 11,
      "outputs": [
        {
          "output_type": "stream",
          "name": "stdout",
          "text": [
            "Problem name: TSP\n",
            "\n",
            "Minimize\n",
            "  2*x_0_1 + 9*x_0_2 + 10*x_0_3 + 7*x_0_4 + 2*x_1_0 + 6*x_1_2 + 4*x_1_3 + 3*x_1_4\n",
            "  + 9*x_2_0 + 6*x_2_1 + 8*x_2_3 + 12*x_2_4 + 10*x_3_0 + 4*x_3_1 + 8*x_3_2\n",
            "  + 5*x_3_4 + 7*x_4_0 + 3*x_4_1 + 12*x_4_2 + 5*x_4_3\n",
            "\n",
            "Subject to\n",
            "  Linear constraints (22)\n",
            "    x_0_1 + x_0_2 + x_0_3 + x_0_4 == 1  'out_0'\n",
            "    x_1_0 + x_2_0 + x_3_0 + x_4_0 == 1  'in_0'\n",
            "    x_1_0 + x_1_2 + x_1_3 + x_1_4 == 1  'out_1'\n",
            "    x_0_1 + x_2_1 + x_3_1 + x_4_1 == 1  'in_1'\n",
            "    x_2_0 + x_2_1 + x_2_3 + x_2_4 == 1  'out_2'\n",
            "    x_0_2 + x_1_2 + x_3_2 + x_4_2 == 1  'in_2'\n",
            "    x_3_0 + x_3_1 + x_3_2 + x_3_4 == 1  'out_3'\n",
            "    x_0_3 + x_1_3 + x_2_3 + x_4_3 == 1  'in_3'\n",
            "    x_4_0 + x_4_1 + x_4_2 + x_4_3 == 1  'out_4'\n",
            "    x_0_4 + x_1_4 + x_2_4 + x_3_4 == 1  'in_4'\n",
            "    -t_1 + t_2 - 4*x_1_2 >= -3  'subtour_1_2'\n",
            "    -t_1 + t_3 - 4*x_1_3 >= -3  'subtour_1_3'\n",
            "    -t_1 + t_4 - 4*x_1_4 >= -3  'subtour_1_4'\n",
            "    t_1 - t_2 - 4*x_2_1 >= -3  'subtour_2_1'\n",
            "    -t_2 + t_3 - 4*x_2_3 >= -3  'subtour_2_3'\n",
            "    -t_2 + t_4 - 4*x_2_4 >= -3  'subtour_2_4'\n",
            "    t_1 - t_3 - 4*x_3_1 >= -3  'subtour_3_1'\n",
            "    t_2 - t_3 - 4*x_3_2 >= -3  'subtour_3_2'\n",
            "    -t_3 + t_4 - 4*x_3_4 >= -3  'subtour_3_4'\n",
            "    t_1 - t_4 - 4*x_4_1 >= -3  'subtour_4_1'\n",
            "    t_2 - t_4 - 4*x_4_2 >= -3  'subtour_4_2'\n",
            "    t_3 - t_4 - 4*x_4_3 >= -3  'subtour_4_3'\n",
            "\n",
            "  Integer variables (5)\n",
            "    0 <= t_0 <= 4\n",
            "    0 <= t_1 <= 4\n",
            "    0 <= t_2 <= 4\n",
            "    0 <= t_3 <= 4\n",
            "    0 <= t_4 <= 4\n",
            "\n",
            "  Binary variables (20)\n",
            "    x_0_1 x_0_2 x_0_3 x_0_4 x_1_0 x_1_2 x_1_3 x_1_4 x_2_0 x_2_1 x_2_3 x_2_4\n",
            "    x_3_0 x_3_1 x_3_2 x_3_4 x_4_0 x_4_1 x_4_2 x_4_3\n",
            "\n"
          ]
        }
      ]
    },
    {
      "cell_type": "code",
      "source": [
        "qubo = QuadraticProgramToQubo(penalty=100000).convert(model) #Qiskit's quadratic program to Qiskit's QUBO structure\n"
      ],
      "metadata": {
        "id": "7ewUh76NoA3K"
      },
      "execution_count": null,
      "outputs": []
    },
    {
      "cell_type": "code",
      "source": [
        "variable_names = qubo.variables # Save Variables name to map them later"
      ],
      "metadata": {
        "id": "3RedacvaoaQ_"
      },
      "execution_count": null,
      "outputs": []
    },
    {
      "cell_type": "code",
      "source": [
        "sampler = SimulatedAnnealingSampler() # D-Wave Quantuam Sampler"
      ],
      "metadata": {
        "id": "tkKWbVQnogvK"
      },
      "execution_count": null,
      "outputs": []
    },
    {
      "cell_type": "code",
      "source": [
        "#Break Down the Qiskit QUBO to its components\n",
        "qubo_dict = qubo.objective.quadratic.to_dict()\n",
        "linear = qubo.objective.linear.to_dict()\n",
        "offset = qubo.objective.constant\n",
        "\n",
        "#Convert To D-Wave BQM\n",
        "bqm = BinaryQuadraticModel(linear, qubo_dict, offset, 'BINARY')\n",
        "# qubo, offset = bqm.to_qubo()\n",
        "sampleset = sampler.sample(bqm, num_reads=1000)\n",
        "best_solution = sampleset.first.sample"
      ],
      "metadata": {
        "id": "T3a7ATIxoqFh"
      },
      "execution_count": null,
      "outputs": []
    },
    {
      "cell_type": "code",
      "source": [
        "# Map integer keys to variable names\n",
        "variable_mapping = {i: name for i, name in enumerate(variable_names)}\n",
        "print(\"Variable Mapping:\", variable_mapping)\n",
        "\n",
        "# Example: Convert best_solution (integer keys) to variable names\n",
        "best_solution_with_names = {variable_mapping[key]: value for key, value in best_solution.items() if key in variable_mapping}\n",
        "print(\"Best Solution with Variable Names:\", best_solution_with_names)"
      ],
      "metadata": {
        "id": "X8qqEk9wo2g0",
        "outputId": "91b01502-daa7-4c70-a6ff-2675b500f32e",
        "colab": {
          "base_uri": "https://localhost:8080/"
        }
      },
      "execution_count": null,
      "outputs": [
        {
          "output_type": "stream",
          "name": "stdout",
          "text": [
            "Variable Mapping: {0: <Variable: x_0_1 (binary)>, 1: <Variable: x_0_2 (binary)>, 2: <Variable: x_0_3 (binary)>, 3: <Variable: x_0_4 (binary)>, 4: <Variable: x_1_0 (binary)>, 5: <Variable: x_1_2 (binary)>, 6: <Variable: x_1_3 (binary)>, 7: <Variable: x_1_4 (binary)>, 8: <Variable: x_2_0 (binary)>, 9: <Variable: x_2_1 (binary)>, 10: <Variable: x_2_3 (binary)>, 11: <Variable: x_2_4 (binary)>, 12: <Variable: x_3_0 (binary)>, 13: <Variable: x_3_1 (binary)>, 14: <Variable: x_3_2 (binary)>, 15: <Variable: x_3_4 (binary)>, 16: <Variable: x_4_0 (binary)>, 17: <Variable: x_4_1 (binary)>, 18: <Variable: x_4_2 (binary)>, 19: <Variable: x_4_3 (binary)>, 20: <Variable: t_0@0 (binary)>, 21: <Variable: t_0@1 (binary)>, 22: <Variable: t_0@2 (binary)>, 23: <Variable: t_1@0 (binary)>, 24: <Variable: t_1@1 (binary)>, 25: <Variable: t_1@2 (binary)>, 26: <Variable: t_2@0 (binary)>, 27: <Variable: t_2@1 (binary)>, 28: <Variable: t_2@2 (binary)>, 29: <Variable: t_3@0 (binary)>, 30: <Variable: t_3@1 (binary)>, 31: <Variable: t_3@2 (binary)>, 32: <Variable: t_4@0 (binary)>, 33: <Variable: t_4@1 (binary)>, 34: <Variable: t_4@2 (binary)>, 35: <Variable: subtour_1_2@int_slack@0 (binary)>, 36: <Variable: subtour_1_2@int_slack@1 (binary)>, 37: <Variable: subtour_1_2@int_slack@2 (binary)>, 38: <Variable: subtour_1_3@int_slack@0 (binary)>, 39: <Variable: subtour_1_3@int_slack@1 (binary)>, 40: <Variable: subtour_1_3@int_slack@2 (binary)>, 41: <Variable: subtour_1_4@int_slack@0 (binary)>, 42: <Variable: subtour_1_4@int_slack@1 (binary)>, 43: <Variable: subtour_1_4@int_slack@2 (binary)>, 44: <Variable: subtour_2_1@int_slack@0 (binary)>, 45: <Variable: subtour_2_1@int_slack@1 (binary)>, 46: <Variable: subtour_2_1@int_slack@2 (binary)>, 47: <Variable: subtour_2_3@int_slack@0 (binary)>, 48: <Variable: subtour_2_3@int_slack@1 (binary)>, 49: <Variable: subtour_2_3@int_slack@2 (binary)>, 50: <Variable: subtour_2_4@int_slack@0 (binary)>, 51: <Variable: subtour_2_4@int_slack@1 (binary)>, 52: <Variable: subtour_2_4@int_slack@2 (binary)>, 53: <Variable: subtour_3_1@int_slack@0 (binary)>, 54: <Variable: subtour_3_1@int_slack@1 (binary)>, 55: <Variable: subtour_3_1@int_slack@2 (binary)>, 56: <Variable: subtour_3_2@int_slack@0 (binary)>, 57: <Variable: subtour_3_2@int_slack@1 (binary)>, 58: <Variable: subtour_3_2@int_slack@2 (binary)>, 59: <Variable: subtour_3_4@int_slack@0 (binary)>, 60: <Variable: subtour_3_4@int_slack@1 (binary)>, 61: <Variable: subtour_3_4@int_slack@2 (binary)>, 62: <Variable: subtour_4_1@int_slack@0 (binary)>, 63: <Variable: subtour_4_1@int_slack@1 (binary)>, 64: <Variable: subtour_4_1@int_slack@2 (binary)>, 65: <Variable: subtour_4_2@int_slack@0 (binary)>, 66: <Variable: subtour_4_2@int_slack@1 (binary)>, 67: <Variable: subtour_4_2@int_slack@2 (binary)>, 68: <Variable: subtour_4_3@int_slack@0 (binary)>, 69: <Variable: subtour_4_3@int_slack@1 (binary)>, 70: <Variable: subtour_4_3@int_slack@2 (binary)>}\n",
            "Best Solution with Variable Names: {<Variable: x_0_1 (binary)>: 1, <Variable: x_0_2 (binary)>: 0, <Variable: x_0_3 (binary)>: 0, <Variable: x_0_4 (binary)>: 0, <Variable: x_1_0 (binary)>: 0, <Variable: x_1_2 (binary)>: 0, <Variable: x_1_3 (binary)>: 0, <Variable: x_1_4 (binary)>: 1, <Variable: x_2_0 (binary)>: 1, <Variable: x_2_1 (binary)>: 0, <Variable: x_2_3 (binary)>: 0, <Variable: x_2_4 (binary)>: 0, <Variable: x_3_0 (binary)>: 0, <Variable: x_3_1 (binary)>: 0, <Variable: x_3_2 (binary)>: 1, <Variable: x_3_4 (binary)>: 0, <Variable: x_4_0 (binary)>: 0, <Variable: x_4_1 (binary)>: 0, <Variable: x_4_2 (binary)>: 0, <Variable: x_4_3 (binary)>: 1, <Variable: t_1@0 (binary)>: 0, <Variable: t_1@1 (binary)>: 0, <Variable: t_1@2 (binary)>: 0, <Variable: t_2@0 (binary)>: 1, <Variable: t_2@1 (binary)>: 1, <Variable: t_2@2 (binary)>: 0, <Variable: t_3@0 (binary)>: 1, <Variable: t_3@1 (binary)>: 0, <Variable: t_3@2 (binary)>: 1, <Variable: t_4@0 (binary)>: 0, <Variable: t_4@1 (binary)>: 0, <Variable: t_4@2 (binary)>: 1, <Variable: subtour_1_2@int_slack@0 (binary)>: 0, <Variable: subtour_1_2@int_slack@1 (binary)>: 1, <Variable: subtour_1_2@int_slack@2 (binary)>: 1, <Variable: subtour_1_3@int_slack@0 (binary)>: 1, <Variable: subtour_1_3@int_slack@1 (binary)>: 0, <Variable: subtour_1_3@int_slack@2 (binary)>: 1, <Variable: subtour_1_4@int_slack@0 (binary)>: 0, <Variable: subtour_1_4@int_slack@1 (binary)>: 0, <Variable: subtour_1_4@int_slack@2 (binary)>: 0, <Variable: subtour_2_1@int_slack@0 (binary)>: 0, <Variable: subtour_2_1@int_slack@1 (binary)>: 0, <Variable: subtour_2_1@int_slack@2 (binary)>: 0, <Variable: subtour_2_3@int_slack@0 (binary)>: 0, <Variable: subtour_2_3@int_slack@1 (binary)>: 1, <Variable: subtour_2_3@int_slack@2 (binary)>: 0, <Variable: subtour_2_4@int_slack@0 (binary)>: 1, <Variable: subtour_2_4@int_slack@1 (binary)>: 0, <Variable: subtour_2_4@int_slack@2 (binary)>: 0, <Variable: subtour_3_1@int_slack@0 (binary)>: 1, <Variable: subtour_3_1@int_slack@1 (binary)>: 0, <Variable: subtour_3_1@int_slack@2 (binary)>: 0, <Variable: subtour_3_2@int_slack@0 (binary)>: 0, <Variable: subtour_3_2@int_slack@1 (binary)>: 0, <Variable: subtour_3_2@int_slack@2 (binary)>: 0, <Variable: subtour_3_4@int_slack@0 (binary)>: 0, <Variable: subtour_3_4@int_slack@1 (binary)>: 1, <Variable: subtour_3_4@int_slack@2 (binary)>: 0, <Variable: subtour_4_1@int_slack@0 (binary)>: 0, <Variable: subtour_4_1@int_slack@1 (binary)>: 1, <Variable: subtour_4_1@int_slack@2 (binary)>: 0, <Variable: subtour_4_2@int_slack@0 (binary)>: 1, <Variable: subtour_4_2@int_slack@1 (binary)>: 0, <Variable: subtour_4_2@int_slack@2 (binary)>: 1, <Variable: subtour_4_3@int_slack@0 (binary)>: 0, <Variable: subtour_4_3@int_slack@1 (binary)>: 0, <Variable: subtour_4_3@int_slack@2 (binary)>: 0}\n"
          ]
        }
      ]
    },
    {
      "cell_type": "code",
      "source": [
        "# Precompute active edges\n",
        "active_edges = []\n",
        "for var, value in best_solution_with_names.items():\n",
        "    if value == 1 and var.name.startswith(\"x_\"):  # Ensure it's an edge variable\n",
        "        parts = var.name.split(\"_\")  # Split the variable name into parts\n",
        "        i = int(parts[1])       # Extract i\n",
        "        j = int(parts[2])       # Extract j\n",
        "        active_edges.append((i, j))\n",
        "print(\"Active Edges:\", active_edges)\n",
        "sum = 0\n",
        "for edge in active_edges:\n",
        "  sum += dist_matrix[edge[0]][edge[1]]\n",
        "print(sum)"
      ],
      "metadata": {
        "id": "5IassjGRo64U",
        "outputId": "bef3ee03-1202-45fb-d33e-fa06d20d2027",
        "colab": {
          "base_uri": "https://localhost:8080/"
        }
      },
      "execution_count": null,
      "outputs": [
        {
          "output_type": "stream",
          "name": "stdout",
          "text": [
            "Active Edges: [(0, 1), (1, 4), (2, 0), (3, 2), (4, 3)]\n",
            "27\n"
          ]
        }
      ]
    },
    {
      "cell_type": "code",
      "source": [
        "\n",
        "\n",
        "# Construct the route using active edges\n",
        "route = []\n",
        "num_cities = len(dist_matrix)\n",
        "\n",
        "# Start at city 0 (or any other starting city)\n",
        "current_city = 0\n",
        "route.append(current_city)\n",
        "\n",
        "# Use a set to track visited cities for faster lookups\n",
        "visited = set([current_city])\n",
        "\n",
        "# Iterate to find the next city in the route\n",
        "while len(route) < num_cities:\n",
        "    for (i, j) in active_edges:\n",
        "        if i == current_city and j not in visited:\n",
        "            route.append(j)\n",
        "            visited.add(j)\n",
        "            current_city = j\n",
        "            break\n",
        "\n",
        "# Ensure the route is a cycle by returning to the starting city\n",
        "route.append(route[0])\n",
        "\n",
        "print(\"Optimal Route:\", route)\n"
      ],
      "metadata": {
        "id": "952w1nYwo-R2",
        "outputId": "79e4b543-94cd-4982-e12c-5833ac0265ff",
        "colab": {
          "base_uri": "https://localhost:8080/"
        }
      },
      "execution_count": null,
      "outputs": [
        {
          "output_type": "stream",
          "name": "stdout",
          "text": [
            "Optimal Route: [0, 1, 4, 3, 2, 0]\n"
          ]
        }
      ]
    },
    {
      "cell_type": "code",
      "source": [
        "import matplotlib.pyplot as plt\n",
        "\n",
        "# Coordinates of cities (for visualization)\n",
        "city_coords = [\n",
        "    (0, 0), (3, 5), (9, 2), (10, 3), (7, 0)\n",
        "]\n",
        "\n",
        "# Plot the route\n",
        "x = [city_coords[i][0] for i in route]\n",
        "y = [city_coords[i][1] for i in route]\n",
        "x.append(x[0])  # Return to the starting city\n",
        "y.append(y[0])\n",
        "\n",
        "plt.plot(x, y, marker='o')\n",
        "plt.title(\"Optimal TSP Route\")\n",
        "plt.show()"
      ],
      "metadata": {
        "id": "Io4iBZ_epCYd",
        "outputId": "89e40898-6d05-4e1e-ee30-19c50e57c724",
        "colab": {
          "base_uri": "https://localhost:8080/",
          "height": 452
        }
      },
      "execution_count": null,
      "outputs": [
        {
          "output_type": "display_data",
          "data": {
            "text/plain": [
              "<Figure size 640x480 with 1 Axes>"
            ],
            "image/png": "[encoded data removed]"
          },
          "metadata": {}
        }
      ]
    },
    {
      "cell_type": "code",
      "source": [
        "from qiskit_algorithms import NumPyMinimumEigensolver\n",
        "from qiskit_optimization.algorithms import MinimumEigenOptimizer\n",
        "\n",
        "# define the solver to have the exact solution\n",
        "exact = MinimumEigenOptimizer(NumPyMinimumEigensolver())\n",
        "result = exact.solve(model)\n",
        "print(result)"
      ],
      "metadata": {
        "colab": {
          "base_uri": "https://localhost:8080/",
          "height": 651
        },
        "id": "rzO4KysKU4Oq",
        "outputId": "be0eaa18-8257-4a1f-890a-07427b4ffe27"
      },
      "execution_count": 13,
      "outputs": [
        {
          "output_type": "stream",
          "name": "stdout",
          "text": [
            "Requirement already satisfied: qiskit_algorithms in /usr/local/lib/python3.10/dist-packages (0.3.1)\n",
            "Requirement already satisfied: qiskit_optimization in /usr/local/lib/python3.10/dist-packages (0.6.1)\n",
            "Requirement already satisfied: qiskit>=0.44 in /usr/local/lib/python3.10/dist-packages (from qiskit_algorithms) (1.3.1)\n",
            "Requirement already satisfied: scipy>=1.4 in /usr/local/lib/python3.10/dist-packages (from qiskit_algorithms) (1.13.1)\n",
            "Requirement already satisfied: numpy>=1.17 in /usr/local/lib/python3.10/dist-packages (from qiskit_algorithms) (1.26.4)\n",
            "Requirement already satisfied: docplex!=2.24.231,>=2.21.207 in /usr/local/lib/python3.10/dist-packages (from qiskit_optimization) (2.29.241)\n",
            "Requirement already satisfied: setuptools>=40.1.0 in /usr/local/lib/python3.10/dist-packages (from qiskit_optimization) (75.1.0)\n",
            "Requirement already satisfied: networkx>=2.6.3 in /usr/local/lib/python3.10/dist-packages (from qiskit_optimization) (3.4.2)\n",
            "Requirement already satisfied: six in /usr/local/lib/python3.10/dist-packages (from docplex!=2.24.231,>=2.21.207->qiskit_optimization) (1.17.0)\n",
            "Requirement already satisfied: rustworkx>=0.15.0 in /usr/local/lib/python3.10/dist-packages (from qiskit>=0.44->qiskit_algorithms) (0.15.1)\n",
            "Requirement already satisfied: sympy>=1.3 in /usr/local/lib/python3.10/dist-packages (from qiskit>=0.44->qiskit_algorithms) (1.13.1)\n",
            "Requirement already satisfied: dill>=0.3 in /usr/local/lib/python3.10/dist-packages (from qiskit>=0.44->qiskit_algorithms) (0.3.9)\n",
            "Requirement already satisfied: python-dateutil>=2.8.0 in /usr/local/lib/python3.10/dist-packages (from qiskit>=0.44->qiskit_algorithms) (2.8.2)\n",
            "Requirement already satisfied: stevedore>=3.0.0 in /usr/local/lib/python3.10/dist-packages (from qiskit>=0.44->qiskit_algorithms) (5.4.0)\n",
            "Requirement already satisfied: typing-extensions in /usr/local/lib/python3.10/dist-packages (from qiskit>=0.44->qiskit_algorithms) (4.12.2)\n",
            "Requirement already satisfied: symengine<0.14,>=0.11 in /usr/local/lib/python3.10/dist-packages (from qiskit>=0.44->qiskit_algorithms) (0.13.0)\n",
            "Requirement already satisfied: pbr>=2.0.0 in /usr/local/lib/python3.10/dist-packages (from stevedore>=3.0.0->qiskit>=0.44->qiskit_algorithms) (6.1.0)\n",
            "Requirement already satisfied: mpmath<1.4,>=1.1.0 in /usr/local/lib/python3.10/dist-packages (from sympy>=1.3->qiskit>=0.44->qiskit_algorithms) (1.3.0)\n"
          ]
        },
        {
          "output_type": "error",
          "ename": "ValueError",
          "evalue": "71 is too many qubits to convert to a matrix",
          "traceback": [
            "\u001b[0;31m---------------------------------------------------------------------------\u001b[0m",
            "\u001b[0;31mValueError\u001b[0m                                Traceback (most recent call last)",
            "\u001b[0;32m<ipython-input-13-906c4f052c75>\u001b[0m in \u001b[0;36m<cell line: 7>\u001b[0;34m()\u001b[0m\n\u001b[1;32m      5\u001b[0m \u001b[0;31m# define the solver to have the exact solution\u001b[0m\u001b[0;34m\u001b[0m\u001b[0;34m\u001b[0m\u001b[0m\n\u001b[1;32m      6\u001b[0m \u001b[0mexact\u001b[0m \u001b[0;34m=\u001b[0m \u001b[0mMinimumEigenOptimizer\u001b[0m\u001b[0;34m(\u001b[0m\u001b[0mNumPyMinimumEigensolver\u001b[0m\u001b[0;34m(\u001b[0m\u001b[0;34m)\u001b[0m\u001b[0;34m)\u001b[0m\u001b[0;34m\u001b[0m\u001b[0;34m\u001b[0m\u001b[0m\n\u001b[0;32m----> 7\u001b[0;31m \u001b[0mresult\u001b[0m \u001b[0;34m=\u001b[0m \u001b[0mexact\u001b[0m\u001b[0;34m.\u001b[0m\u001b[0msolve\u001b[0m\u001b[0;34m(\u001b[0m\u001b[0mmodel\u001b[0m\u001b[0;34m)\u001b[0m\u001b[0;34m\u001b[0m\u001b[0;34m\u001b[0m\u001b[0m\n\u001b[0m\u001b[1;32m      8\u001b[0m \u001b[0mprint\u001b[0m\u001b[0;34m(\u001b[0m\u001b[0mresult\u001b[0m\u001b[0;34m)\u001b[0m\u001b[0;34m\u001b[0m\u001b[0;34m\u001b[0m\u001b[0m\n",
            "\u001b[0;32m/usr/local/lib/python3.10/dist-packages/qiskit_optimization/algorithms/minimum_eigen_optimizer.py\u001b[0m in \u001b[0;36msolve\u001b[0;34m(self, problem)\u001b[0m\n\u001b[1;32m    203\u001b[0m         \u001b[0moperator\u001b[0m\u001b[0;34m,\u001b[0m \u001b[0moffset\u001b[0m \u001b[0;34m=\u001b[0m \u001b[0mproblem_\u001b[0m\u001b[0;34m.\u001b[0m\u001b[0mto_ising\u001b[0m\u001b[0;34m(\u001b[0m\u001b[0;34m)\u001b[0m\u001b[0;34m\u001b[0m\u001b[0;34m\u001b[0m\u001b[0m\n\u001b[1;32m    204\u001b[0m \u001b[0;34m\u001b[0m\u001b[0m\n\u001b[0;32m--> 205\u001b[0;31m         \u001b[0;32mreturn\u001b[0m \u001b[0mself\u001b[0m\u001b[0;34m.\u001b[0m\u001b[0m_solve_internal\u001b[0m\u001b[0;34m(\u001b[0m\u001b[0moperator\u001b[0m\u001b[0;34m,\u001b[0m \u001b[0moffset\u001b[0m\u001b[0;34m,\u001b[0m \u001b[0mproblem_\u001b[0m\u001b[0;34m,\u001b[0m \u001b[0mproblem\u001b[0m\u001b[0;34m)\u001b[0m\u001b[0;34m\u001b[0m\u001b[0;34m\u001b[0m\u001b[0m\n\u001b[0m\u001b[1;32m    206\u001b[0m \u001b[0;34m\u001b[0m\u001b[0m\n\u001b[1;32m    207\u001b[0m     def _solve_internal(\n",
            "\u001b[0;32m/usr/local/lib/python3.10/dist-packages/qiskit_optimization/algorithms/minimum_eigen_optimizer.py\u001b[0m in \u001b[0;36m_solve_internal\u001b[0;34m(self, operator, offset, converted_problem, original_problem)\u001b[0m\n\u001b[1;32m    216\u001b[0m         \u001b[0;32mif\u001b[0m \u001b[0moperator\u001b[0m\u001b[0;34m.\u001b[0m\u001b[0mnum_qubits\u001b[0m \u001b[0;34m>\u001b[0m \u001b[0;36m0\u001b[0m\u001b[0;34m:\u001b[0m\u001b[0;34m\u001b[0m\u001b[0;34m\u001b[0m\u001b[0m\n\u001b[1;32m    217\u001b[0m             \u001b[0;31m# approximate ground state of operator using min eigen solver\u001b[0m\u001b[0;34m\u001b[0m\u001b[0;34m\u001b[0m\u001b[0m\n\u001b[0;32m--> 218\u001b[0;31m             \u001b[0meigen_result\u001b[0m \u001b[0;34m=\u001b[0m \u001b[0mself\u001b[0m\u001b[0;34m.\u001b[0m\u001b[0m_min_eigen_solver\u001b[0m\u001b[0;34m.\u001b[0m\u001b[0mcompute_minimum_eigenvalue\u001b[0m\u001b[0;34m(\u001b[0m\u001b[0moperator\u001b[0m\u001b[0;34m)\u001b[0m\u001b[0;34m\u001b[0m\u001b[0;34m\u001b[0m\u001b[0m\n\u001b[0m\u001b[1;32m    219\u001b[0m             \u001b[0;31m# analyze results\u001b[0m\u001b[0;34m\u001b[0m\u001b[0;34m\u001b[0m\u001b[0m\n\u001b[1;32m    220\u001b[0m             \u001b[0mraw_samples\u001b[0m \u001b[0;34m=\u001b[0m \u001b[0;32mNone\u001b[0m\u001b[0;34m\u001b[0m\u001b[0;34m\u001b[0m\u001b[0m\n",
            "\u001b[0;32m/usr/local/lib/python3.10/dist-packages/qiskit_algorithms/minimum_eigensolvers/numpy_minimum_eigensolver.py\u001b[0m in \u001b[0;36mcompute_minimum_eigenvalue\u001b[0;34m(self, operator, aux_operators)\u001b[0m\n\u001b[1;32m     78\u001b[0m     ) -> NumPyMinimumEigensolverResult:\n\u001b[1;32m     79\u001b[0m         \u001b[0msuper\u001b[0m\u001b[0;34m(\u001b[0m\u001b[0;34m)\u001b[0m\u001b[0;34m.\u001b[0m\u001b[0mcompute_minimum_eigenvalue\u001b[0m\u001b[0;34m(\u001b[0m\u001b[0moperator\u001b[0m\u001b[0;34m,\u001b[0m \u001b[0maux_operators\u001b[0m\u001b[0;34m)\u001b[0m\u001b[0;34m\u001b[0m\u001b[0;34m\u001b[0m\u001b[0m\n\u001b[0;32m---> 80\u001b[0;31m         \u001b[0meigensolver_result\u001b[0m \u001b[0;34m=\u001b[0m \u001b[0mself\u001b[0m\u001b[0;34m.\u001b[0m\u001b[0m_eigensolver\u001b[0m\u001b[0;34m.\u001b[0m\u001b[0mcompute_eigenvalues\u001b[0m\u001b[0;34m(\u001b[0m\u001b[0moperator\u001b[0m\u001b[0;34m,\u001b[0m \u001b[0maux_operators\u001b[0m\u001b[0;34m)\u001b[0m\u001b[0;34m\u001b[0m\u001b[0;34m\u001b[0m\u001b[0m\n\u001b[0m\u001b[1;32m     81\u001b[0m         \u001b[0mresult\u001b[0m \u001b[0;34m=\u001b[0m \u001b[0mNumPyMinimumEigensolverResult\u001b[0m\u001b[0;34m(\u001b[0m\u001b[0;34m)\u001b[0m\u001b[0;34m\u001b[0m\u001b[0;34m\u001b[0m\u001b[0m\n\u001b[1;32m     82\u001b[0m         \u001b[0;32mif\u001b[0m \u001b[0meigensolver_result\u001b[0m\u001b[0;34m.\u001b[0m\u001b[0meigenvalues\u001b[0m \u001b[0;32mis\u001b[0m \u001b[0;32mnot\u001b[0m \u001b[0;32mNone\u001b[0m \u001b[0;32mand\u001b[0m \u001b[0mlen\u001b[0m\u001b[0;34m(\u001b[0m\u001b[0meigensolver_result\u001b[0m\u001b[0;34m.\u001b[0m\u001b[0meigenvalues\u001b[0m\u001b[0;34m)\u001b[0m \u001b[0;34m>\u001b[0m \u001b[0;36m0\u001b[0m\u001b[0;34m:\u001b[0m\u001b[0;34m\u001b[0m\u001b[0;34m\u001b[0m\u001b[0m\n",
            "\u001b[0;32m/usr/local/lib/python3.10/dist-packages/qiskit_algorithms/eigensolvers/numpy_eigensolver.py\u001b[0m in \u001b[0;36mcompute_eigenvalues\u001b[0;34m(self, operator, aux_operators)\u001b[0m\n\u001b[1;32m    256\u001b[0m             \u001b[0mself\u001b[0m\u001b[0;34m.\u001b[0m\u001b[0m_k\u001b[0m \u001b[0;34m=\u001b[0m \u001b[0;36m2\u001b[0m\u001b[0;34m**\u001b[0m\u001b[0moperator\u001b[0m\u001b[0;34m.\u001b[0m\u001b[0mnum_qubits\u001b[0m\u001b[0;34m\u001b[0m\u001b[0;34m\u001b[0m\u001b[0m\n\u001b[1;32m    257\u001b[0m \u001b[0;34m\u001b[0m\u001b[0m\n\u001b[0;32m--> 258\u001b[0;31m         \u001b[0meigvals\u001b[0m\u001b[0;34m,\u001b[0m \u001b[0meigvecs\u001b[0m \u001b[0;34m=\u001b[0m \u001b[0mself\u001b[0m\u001b[0;34m.\u001b[0m\u001b[0m_solve\u001b[0m\u001b[0;34m(\u001b[0m\u001b[0moperator\u001b[0m\u001b[0;34m)\u001b[0m\u001b[0;34m\u001b[0m\u001b[0;34m\u001b[0m\u001b[0m\n\u001b[0m\u001b[1;32m    259\u001b[0m \u001b[0;34m\u001b[0m\u001b[0m\n\u001b[1;32m    260\u001b[0m         \u001b[0;31m# compute energies before filtering, as this also evaluates the aux operators\u001b[0m\u001b[0;34m\u001b[0m\u001b[0;34m\u001b[0m\u001b[0m\n",
            "\u001b[0;32m/usr/local/lib/python3.10/dist-packages/qiskit_algorithms/eigensolvers/numpy_eigensolver.py\u001b[0m in \u001b[0;36m_solve\u001b[0;34m(self, operator)\u001b[0m\n\u001b[1;32m    113\u001b[0m \u001b[0;34m\u001b[0m\u001b[0m\n\u001b[1;32m    114\u001b[0m         \u001b[0;32mtry\u001b[0m\u001b[0;34m:\u001b[0m\u001b[0;34m\u001b[0m\u001b[0;34m\u001b[0m\u001b[0m\n\u001b[0;32m--> 115\u001b[0;31m             \u001b[0mop_matrix\u001b[0m \u001b[0;34m=\u001b[0m \u001b[0moperator\u001b[0m\u001b[0;34m.\u001b[0m\u001b[0mto_matrix\u001b[0m\u001b[0;34m(\u001b[0m\u001b[0msparse\u001b[0m\u001b[0;34m=\u001b[0m\u001b[0;32mTrue\u001b[0m\u001b[0;34m)\u001b[0m\u001b[0;34m\u001b[0m\u001b[0;34m\u001b[0m\u001b[0m\n\u001b[0m\u001b[1;32m    116\u001b[0m         \u001b[0;32mexcept\u001b[0m \u001b[0mTypeError\u001b[0m\u001b[0;34m:\u001b[0m\u001b[0;34m\u001b[0m\u001b[0;34m\u001b[0m\u001b[0m\n\u001b[1;32m    117\u001b[0m             logger.debug(\n",
            "\u001b[0;32m/usr/local/lib/python3.10/dist-packages/qiskit/quantum_info/operators/symplectic/sparse_pauli_op.py\u001b[0m in \u001b[0;36mto_matrix\u001b[0;34m(self, sparse, force_serial)\u001b[0m\n\u001b[1;32m    973\u001b[0m             \u001b[0;32mfrom\u001b[0m \u001b[0mscipy\u001b[0m\u001b[0;34m.\u001b[0m\u001b[0msparse\u001b[0m \u001b[0;32mimport\u001b[0m \u001b[0mcsr_matrix\u001b[0m\u001b[0;34m\u001b[0m\u001b[0;34m\u001b[0m\u001b[0m\n\u001b[1;32m    974\u001b[0m \u001b[0;34m\u001b[0m\u001b[0m\n\u001b[0;32m--> 975\u001b[0;31m             \u001b[0mdata\u001b[0m\u001b[0;34m,\u001b[0m \u001b[0mindices\u001b[0m\u001b[0;34m,\u001b[0m \u001b[0mindptr\u001b[0m \u001b[0;34m=\u001b[0m \u001b[0mto_matrix_sparse\u001b[0m\u001b[0;34m(\u001b[0m\u001b[0mzx\u001b[0m\u001b[0;34m,\u001b[0m \u001b[0mforce_serial\u001b[0m\u001b[0;34m=\u001b[0m\u001b[0mforce_serial\u001b[0m\u001b[0;34m)\u001b[0m\u001b[0;34m\u001b[0m\u001b[0;34m\u001b[0m\u001b[0m\n\u001b[0m\u001b[1;32m    976\u001b[0m             \u001b[0mside\u001b[0m \u001b[0;34m=\u001b[0m \u001b[0;36m1\u001b[0m \u001b[0;34m<<\u001b[0m \u001b[0mself\u001b[0m\u001b[0;34m.\u001b[0m\u001b[0mnum_qubits\u001b[0m\u001b[0;34m\u001b[0m\u001b[0;34m\u001b[0m\u001b[0m\n\u001b[1;32m    977\u001b[0m             \u001b[0;32mreturn\u001b[0m \u001b[0mcsr_matrix\u001b[0m\u001b[0;34m(\u001b[0m\u001b[0;34m(\u001b[0m\u001b[0mdata\u001b[0m\u001b[0;34m,\u001b[0m \u001b[0mindices\u001b[0m\u001b[0;34m,\u001b[0m \u001b[0mindptr\u001b[0m\u001b[0;34m)\u001b[0m\u001b[0;34m,\u001b[0m \u001b[0mshape\u001b[0m\u001b[0;34m=\u001b[0m\u001b[0;34m(\u001b[0m\u001b[0mside\u001b[0m\u001b[0;34m,\u001b[0m \u001b[0mside\u001b[0m\u001b[0;34m)\u001b[0m\u001b[0;34m)\u001b[0m\u001b[0;34m\u001b[0m\u001b[0;34m\u001b[0m\u001b[0m\n",
            "\u001b[0;31mValueError\u001b[0m: 71 is too many qubits to convert to a matrix"
          ]
        }
      ]
    }
  ]
}