{
  "nbformat": 4,
  "nbformat_minor": 0,
  "metadata": {
    "colab": {
      "provenance": [],
      "include_colab_link": true
    },
    "kernelspec": {
      "name": "python3",
      "display_name": "Python 3"
    },
    "language_info": {
      "name": "python"
    }
  },
  "cells": [
    {
      "cell_type": "markdown",
      "metadata": {
        "id": "view-in-github",
        "colab_type": "text"
      },
      "source": [
        "<a href=\"https://colab.research.google.com/github/my612/Quantamania/blob/main/Final.ipynb\" target=\"_parent\"><img src=\"https://colab.research.google.com/assets/colab-badge.svg\" alt=\"Open In Colab\"/></a>"
      ]
    },
    {
      "cell_type": "markdown",
      "source": [
        "# Traveling Salesman Problem (TSP) Optimization"
      ],
      "metadata": {
        "id": "AdeHloqdDZ3L"
      }
    },
    {
      "cell_type": "markdown",
      "source": [
        "# 1. From Integer Linear Programming (ILP) to Quadratic Unconstrained Binary Optimization (QUBO)"
      ],
      "metadata": {
        "id": "vbRPrJ-dHR69"
      }
    },
    {
      "cell_type": "markdown",
      "source": [
        "## 1.1 ILP Problem Definition"
      ],
      "metadata": {
        "id": "dgMvzoRGELCm"
      }
    },
    {
      "cell_type": "markdown",
      "source": [
        "### Problem Description\n",
        "\n",
        "The Traveling Salesman Problem (TSP) is a classic optimization problem where the goal is to find the shortest possible route that visits each city exactly once and returns to the origin city. Given a set of cities and the distances between each pair of cities, the objective is to determine the optimal tour with the minimum total travel distance.\n",
        "\n",
        "### MTZ Formulation\n",
        "\n",
        "The Miller-Tucker-Zemlin (MTZ) formulation is a well-known Integer Linear Programming (ILP) approach to solve the TSP. It introduces additional variables to prevent subtours, ensuring a single contiguous tour.\n",
        "\n",
        "### Variables\n",
        "\n",
        "- $( x_{ij} )$: Binary variable indicating whether the path goes directly from city $( i )$ to city $( j )$.\n",
        "- $( u_i )$: Auxiliary variable representing the order or rank of city $( i $) in the tour.\n",
        "\n",
        "### Objective Function\n",
        "\n",
        "Minimize the total travel distance:\n",
        "$$\n",
        "\\text{minimize} \\quad \\sum_{i=1}^{n} \\sum_{j=1}^{n} d_{ij} x_{ij}\n",
        "$$\n",
        "where $( d_{ij} )$ is the distance from city $( i $) to city $( j $).\n",
        "\n",
        "### Constraints\n",
        "\n",
        "1. **Outgoing arcs:**\n",
        "   $$\n",
        "   \\sum_{j=1, j \\neq i}^{n} x_{ij} = 1 \\quad \\forall i = 1, 2, \\dots, n\n",
        "   $$\n",
        "2. **Incoming arcs:**\n",
        "   $$\n",
        "   \\sum_{i=1, i \\neq j}^{n} x_{ij} = 1 \\quad \\forall j = 1, 2, \\dots, n\n",
        "   $$\n",
        "3. **Subtour elimination:**\n",
        "   $$\n",
        "   u_i - u_j + n x_{ij} \\leq n - 1 \\quad \\forall i, j = 2, 3, \\dots, n; i \\neq j\n",
        "   $$\n",
        "4. **Variable bounds:**\n",
        "   $$\n",
        "   x_{ij} \\in \\{0, 1\\} \\quad \\forall i, j = 1, 2, \\dots, n; i \\neq j\n",
        "   $$\n",
        "   $$\n",
        "   u_i \\in \\mathbb{Z} \\quad \\forall i = 1, 2, \\dots, n\n",
        "   $$\n",
        "\n",
        "### Assumptions\n",
        "\n",
        "- Symmetric TSP: $( d_{ij} = d_{ji} $) for all $( i, j $).\n",
        "- No self-loops: $( d_{ii} = 0 $) for all $( i $).\n",
        "\n",
        "### Explanation\n",
        "\n",
        "The MTZ formulation uses the auxiliary variables $( u_i $) to prevent subtours by enforcing an ordering on the cities. This ensures that the solution forms a single tour rather than multiple disconnected subtours.\n",
        "\n",
        "This formulation is effective for solving the TSP and is widely used due to its simplicity and computational efficiency for moderate-sized instances."
      ],
      "metadata": {
        "id": "3ubE80PILPwt"
      }
    },
    {
      "cell_type": "markdown",
      "source": [
        "## 1.2 Fromulating the problem using Qiskit's QuadraticProgram\n",
        "\n",
        "\n"
      ],
      "metadata": {
        "id": "8BZY7QPTEaM3"
      }
    },
    {
      "cell_type": "code",
      "source": [
        "!pip install qiskit_optimization qiskit_algorithms\n",
        "!pip install dimod\n",
        "!pip install dwave-ocean-sdk"
      ],
      "metadata": {
        "id": "3v9KxSg1Nynt",
        "collapsed": true,
        "outputId": "bfc49ac0-7c7a-4147-bf04-65604cc22cb1",
        "colab": {
          "base_uri": "https://localhost:8080/"
        }
      },
      "execution_count": 1,
      "outputs": [
        {
          "output_type": "stream",
          "name": "stdout",
          "text": [
            "Requirement already satisfied: qiskit_optimization in /usr/local/lib/python3.11/dist-packages (0.6.1)\n",
            "Requirement already satisfied: qiskit_algorithms in /usr/local/lib/python3.11/dist-packages (0.3.1)\n",
            "Requirement already satisfied: qiskit>=0.44 in /usr/local/lib/python3.11/dist-packages (from qiskit_optimization) (1.3.1)\n",
            "Requirement already satisfied: scipy>=1.9.0 in /usr/local/lib/python3.11/dist-packages (from qiskit_optimization) (1.13.1)\n",
            "Requirement already satisfied: numpy>=1.17 in /usr/local/lib/python3.11/dist-packages (from qiskit_optimization) (1.26.4)\n",
            "Requirement already satisfied: docplex!=2.24.231,>=2.21.207 in /usr/local/lib/python3.11/dist-packages (from qiskit_optimization) (2.29.241)\n",
            "Requirement already satisfied: setuptools>=40.1.0 in /usr/local/lib/python3.11/dist-packages (from qiskit_optimization) (75.1.0)\n",
            "Requirement already satisfied: networkx>=2.6.3 in /usr/local/lib/python3.11/dist-packages (from qiskit_optimization) (3.4.2)\n",
            "Requirement already satisfied: six in /usr/local/lib/python3.11/dist-packages (from docplex!=2.24.231,>=2.21.207->qiskit_optimization) (1.17.0)\n",
            "Requirement already satisfied: rustworkx>=0.15.0 in /usr/local/lib/python3.11/dist-packages (from qiskit>=0.44->qiskit_optimization) (0.15.1)\n",
            "Requirement already satisfied: sympy>=1.3 in /usr/local/lib/python3.11/dist-packages (from qiskit>=0.44->qiskit_optimization) (1.13.1)\n",
            "Requirement already satisfied: dill>=0.3 in /usr/local/lib/python3.11/dist-packages (from qiskit>=0.44->qiskit_optimization) (0.3.9)\n",
            "Requirement already satisfied: python-dateutil>=2.8.0 in /usr/local/lib/python3.11/dist-packages (from qiskit>=0.44->qiskit_optimization) (2.8.2)\n",
            "Requirement already satisfied: stevedore>=3.0.0 in /usr/local/lib/python3.11/dist-packages (from qiskit>=0.44->qiskit_optimization) (5.4.0)\n",
            "Requirement already satisfied: typing-extensions in /usr/local/lib/python3.11/dist-packages (from qiskit>=0.44->qiskit_optimization) (4.12.2)\n",
            "Requirement already satisfied: symengine<0.14,>=0.11 in /usr/local/lib/python3.11/dist-packages (from qiskit>=0.44->qiskit_optimization) (0.13.0)\n",
            "Requirement already satisfied: pbr>=2.0.0 in /usr/local/lib/python3.11/dist-packages (from stevedore>=3.0.0->qiskit>=0.44->qiskit_optimization) (6.1.0)\n",
            "Requirement already satisfied: mpmath<1.4,>=1.1.0 in /usr/local/lib/python3.11/dist-packages (from sympy>=1.3->qiskit>=0.44->qiskit_optimization) (1.3.0)\n",
            "Requirement already satisfied: dimod in /usr/local/lib/python3.11/dist-packages (0.12.18)\n",
            "Requirement already satisfied: numpy>=1.17.3 in /usr/local/lib/python3.11/dist-packages (from dimod) (1.26.4)\n",
            "Requirement already satisfied: dwave-ocean-sdk in /usr/local/lib/python3.11/dist-packages (8.1.0)\n",
            "Requirement already satisfied: dimod==0.12.18 in /usr/local/lib/python3.11/dist-packages (from dwave-ocean-sdk) (0.12.18)\n",
            "Requirement already satisfied: dwave-cloud-client==0.13.2 in /usr/local/lib/python3.11/dist-packages (from dwave-ocean-sdk) (0.13.2)\n",
            "Requirement already satisfied: dwave-gate==0.3.3 in /usr/local/lib/python3.11/dist-packages (from dwave-ocean-sdk) (0.3.3)\n",
            "Requirement already satisfied: dwave-hybrid==0.6.13 in /usr/local/lib/python3.11/dist-packages (from dwave-ocean-sdk) (0.6.13)\n",
            "Requirement already satisfied: dwave-inspector==0.5.2 in /usr/local/lib/python3.11/dist-packages (from dwave-ocean-sdk) (0.5.2)\n",
            "Requirement already satisfied: dwave-networkx==0.8.16 in /usr/local/lib/python3.11/dist-packages (from dwave-ocean-sdk) (0.8.16)\n",
            "Requirement already satisfied: dwave-optimization==0.4.2 in /usr/local/lib/python3.11/dist-packages (from dwave-ocean-sdk) (0.4.2)\n",
            "Requirement already satisfied: dwave-preprocessing==0.6.7 in /usr/local/lib/python3.11/dist-packages (from dwave-ocean-sdk) (0.6.7)\n",
            "Requirement already satisfied: dwave-samplers==1.4.0 in /usr/local/lib/python3.11/dist-packages (from dwave-ocean-sdk) (1.4.0)\n",
            "Requirement already satisfied: dwave-system==1.28.0 in /usr/local/lib/python3.11/dist-packages (from dwave-ocean-sdk) (1.28.0)\n",
            "Requirement already satisfied: dwavebinarycsp==0.3.1 in /usr/local/lib/python3.11/dist-packages (from dwave-ocean-sdk) (0.3.1)\n",
            "Requirement already satisfied: minorminer==0.2.16 in /usr/local/lib/python3.11/dist-packages (from dwave-ocean-sdk) (0.2.16)\n",
            "Requirement already satisfied: penaltymodel==1.2.0 in /usr/local/lib/python3.11/dist-packages (from dwave-ocean-sdk) (1.2.0)\n",
            "Requirement already satisfied: numpy>=1.17.3 in /usr/local/lib/python3.11/dist-packages (from dimod==0.12.18->dwave-ocean-sdk) (1.26.4)\n",
            "Requirement already satisfied: requests<3,>=2.25 in /usr/local/lib/python3.11/dist-packages (from requests[socks]<3,>=2.25->dwave-cloud-client==0.13.2->dwave-ocean-sdk) (2.32.3)\n",
            "Requirement already satisfied: urllib3<3,>=1.26 in /usr/local/lib/python3.11/dist-packages (from dwave-cloud-client==0.13.2->dwave-ocean-sdk) (2.3.0)\n",
            "Requirement already satisfied: pydantic<3,>=2 in /usr/local/lib/python3.11/dist-packages (from dwave-cloud-client==0.13.2->dwave-ocean-sdk) (2.10.5)\n",
            "Requirement already satisfied: homebase<2,>=1.0 in /usr/local/lib/python3.11/dist-packages (from dwave-cloud-client==0.13.2->dwave-ocean-sdk) (1.0.1)\n",
            "Requirement already satisfied: click<9,>=7.0 in /usr/local/lib/python3.11/dist-packages (from dwave-cloud-client==0.13.2->dwave-ocean-sdk) (8.1.8)\n",
            "Requirement already satisfied: python-dateutil<3,>=2.7 in /usr/local/lib/python3.11/dist-packages (from dwave-cloud-client==0.13.2->dwave-ocean-sdk) (2.8.2)\n",
            "Requirement already satisfied: plucky<0.5,>=0.4.3 in /usr/local/lib/python3.11/dist-packages (from dwave-cloud-client==0.13.2->dwave-ocean-sdk) (0.4.3)\n",
            "Requirement already satisfied: diskcache<6,>=5.2.1 in /usr/local/lib/python3.11/dist-packages (from dwave-cloud-client==0.13.2->dwave-ocean-sdk) (5.6.3)\n",
            "Requirement already satisfied: packaging>=19 in /usr/local/lib/python3.11/dist-packages (from dwave-cloud-client==0.13.2->dwave-ocean-sdk) (24.2)\n",
            "Requirement already satisfied: werkzeug<4,>=2.2 in /usr/local/lib/python3.11/dist-packages (from dwave-cloud-client==0.13.2->dwave-ocean-sdk) (3.1.3)\n",
            "Requirement already satisfied: typing-extensions<5,>=4.5.0 in /usr/local/lib/python3.11/dist-packages (from dwave-cloud-client==0.13.2->dwave-ocean-sdk) (4.12.2)\n",
            "Requirement already satisfied: authlib<2,>=1.2 in /usr/local/lib/python3.11/dist-packages (from dwave-cloud-client==0.13.2->dwave-ocean-sdk) (1.4.0)\n",
            "Requirement already satisfied: importlib_metadata>=5.0.0 in /usr/local/lib/python3.11/dist-packages (from dwave-cloud-client==0.13.2->dwave-ocean-sdk) (8.5.0)\n",
            "Requirement already satisfied: orjson>=3.10 in /usr/local/lib/python3.11/dist-packages (from dwave-cloud-client==0.13.2->dwave-ocean-sdk) (3.10.14)\n",
            "Requirement already satisfied: networkx in /usr/local/lib/python3.11/dist-packages (from dwave-hybrid==0.6.13->dwave-ocean-sdk) (3.4.2)\n",
            "Requirement already satisfied: Flask<4,>=2.2 in /usr/local/lib/python3.11/dist-packages (from dwave-inspector==0.5.2->dwave-ocean-sdk) (3.1.0)\n",
            "Requirement already satisfied: scipy>=1.7.3 in /usr/local/lib/python3.11/dist-packages (from dwave-system==1.28.0->dwave-ocean-sdk) (1.13.1)\n",
            "Requirement already satisfied: fasteners>=0.15 in /usr/local/lib/python3.11/dist-packages (from minorminer==0.2.16->dwave-ocean-sdk) (0.19)\n",
            "Requirement already satisfied: cryptography in /usr/local/lib/python3.11/dist-packages (from authlib<2,>=1.2->dwave-cloud-client==0.13.2->dwave-ocean-sdk) (43.0.3)\n",
            "Requirement already satisfied: Jinja2>=3.1.2 in /usr/local/lib/python3.11/dist-packages (from Flask<4,>=2.2->dwave-inspector==0.5.2->dwave-ocean-sdk) (3.1.5)\n",
            "Requirement already satisfied: itsdangerous>=2.2 in /usr/local/lib/python3.11/dist-packages (from Flask<4,>=2.2->dwave-inspector==0.5.2->dwave-ocean-sdk) (2.2.0)\n",
            "Requirement already satisfied: blinker>=1.9 in /usr/local/lib/python3.11/dist-packages (from Flask<4,>=2.2->dwave-inspector==0.5.2->dwave-ocean-sdk) (1.9.0)\n",
            "Requirement already satisfied: zipp>=3.20 in /usr/local/lib/python3.11/dist-packages (from importlib_metadata>=5.0.0->dwave-cloud-client==0.13.2->dwave-ocean-sdk) (3.21.0)\n",
            "Requirement already satisfied: annotated-types>=0.6.0 in /usr/local/lib/python3.11/dist-packages (from pydantic<3,>=2->dwave-cloud-client==0.13.2->dwave-ocean-sdk) (0.7.0)\n",
            "Requirement already satisfied: pydantic-core==2.27.2 in /usr/local/lib/python3.11/dist-packages (from pydantic<3,>=2->dwave-cloud-client==0.13.2->dwave-ocean-sdk) (2.27.2)\n",
            "Requirement already satisfied: six>=1.5 in /usr/local/lib/python3.11/dist-packages (from python-dateutil<3,>=2.7->dwave-cloud-client==0.13.2->dwave-ocean-sdk) (1.17.0)\n",
            "Requirement already satisfied: charset-normalizer<4,>=2 in /usr/local/lib/python3.11/dist-packages (from requests<3,>=2.25->requests[socks]<3,>=2.25->dwave-cloud-client==0.13.2->dwave-ocean-sdk) (3.4.1)\n",
            "Requirement already satisfied: idna<4,>=2.5 in /usr/local/lib/python3.11/dist-packages (from requests<3,>=2.25->requests[socks]<3,>=2.25->dwave-cloud-client==0.13.2->dwave-ocean-sdk) (3.10)\n",
            "Requirement already satisfied: certifi>=2017.4.17 in /usr/local/lib/python3.11/dist-packages (from requests<3,>=2.25->requests[socks]<3,>=2.25->dwave-cloud-client==0.13.2->dwave-ocean-sdk) (2024.12.14)\n",
            "Requirement already satisfied: PySocks!=1.5.7,>=1.5.6 in /usr/local/lib/python3.11/dist-packages (from requests[socks]<3,>=2.25->dwave-cloud-client==0.13.2->dwave-ocean-sdk) (1.7.1)\n",
            "Requirement already satisfied: MarkupSafe>=2.1.1 in /usr/local/lib/python3.11/dist-packages (from werkzeug<4,>=2.2->dwave-cloud-client==0.13.2->dwave-ocean-sdk) (3.0.2)\n",
            "Requirement already satisfied: cffi>=1.12 in /usr/local/lib/python3.11/dist-packages (from cryptography->authlib<2,>=1.2->dwave-cloud-client==0.13.2->dwave-ocean-sdk) (1.17.1)\n",
            "Requirement already satisfied: pycparser in /usr/local/lib/python3.11/dist-packages (from cffi>=1.12->cryptography->authlib<2,>=1.2->dwave-cloud-client==0.13.2->dwave-ocean-sdk) (2.22)\n"
          ]
        }
      ]
    },
    {
      "cell_type": "code",
      "source": [
        "from qiskit_optimization import QuadraticProgram\n",
        "from qiskit_optimization.converters import QuadraticProgramToQubo"
      ],
      "metadata": {
        "id": "If56aUI0O5dh"
      },
      "execution_count": 2,
      "outputs": []
    },
    {
      "cell_type": "code",
      "source": [
        "def TSP_as_ILP(dist_matrix, print_model = False):\n",
        "    mod = QuadraticProgram(\"TSP\")\n",
        "\n",
        "    num_cities = len(dist_matrix)\n",
        "\n",
        "    for i in range(num_cities):\n",
        "        for j in range(num_cities):\n",
        "            if i != j:\n",
        "                mod.binary_var(f\"x_{i}_{j}\")\n",
        "    for i in range(num_cities):\n",
        "        mod.linear_constraint(linear={f\"x_{i}_{j}\": 1 for j in range(num_cities) if i != j}, sense='==', rhs=1, name=f'out_{i}')\n",
        "        mod.linear_constraint(linear  ={f\"x_{j}_{i}\": 1 for j in range(num_cities) if i != j}, sense='==', rhs=1, name=f'in_{i}')\n",
        "    t = {}\n",
        "    for i in range(num_cities):\n",
        "        t[i] = mod.integer_var(lowerbound=0, upperbound=num_cities-1, name=f't_{i}')\n",
        "    for i in range(1, num_cities):  # t_0 is fixed to 0, so start from i=1\n",
        "        for j in range(1, num_cities):  # Ensure i != j\n",
        "            if i != j:\n",
        "                mod.linear_constraint(\n",
        "                    linear={f\"t_{j}\": 1, f\"t_{i}\": -1, f\"x_{i}_{j}\": -(num_cities - 1)},\n",
        "                    sense='>=',\n",
        "                    rhs=1 - (num_cities - 1),\n",
        "                    name=f\"subtour_{i}_{j}\"\n",
        "                )\n",
        "    obj = {}\n",
        "    for i in range(num_cities):\n",
        "      for j in range(num_cities):\n",
        "          if i != j:\n",
        "              obj[f\"x_{i}_{j}\"] = dist_matrix[i][j]\n",
        "    mod.minimize(linear=obj)\n",
        "    if print_model:\n",
        "      print(mod.prettyprint())\n",
        "    return mod\n"
      ],
      "metadata": {
        "id": "TyMpUPwhOy4y"
      },
      "execution_count": 3,
      "outputs": []
    },
    {
      "cell_type": "markdown",
      "source": [
        "## 1.3 Conversion from ILP to QUBO\n"
      ],
      "metadata": {
        "id": "qvhHWj_bGhYb"
      }
    },
    {
      "cell_type": "code",
      "source": [
        "def convert_ILP_to_QUBO(model, print_model = False):\n",
        "    qubo = QuadraticProgramToQubo(penalty=350).convert(model)\n",
        "\n",
        "    if print_model:\n",
        "        print(qubo.prettyprint())\n",
        "\n",
        "    return qubo"
      ],
      "metadata": {
        "id": "0qU0rNADPvV-"
      },
      "execution_count": 4,
      "outputs": []
    },
    {
      "cell_type": "markdown",
      "source": [
        "## 1.4 Using a specific instance of the problem.\n"
      ],
      "metadata": {
        "id": "wkGmjiY7HE4y"
      }
    },
    {
      "cell_type": "markdown",
      "source": [
        "Here we define functions to generate a sample distance matrix for the problem."
      ],
      "metadata": {
        "id": "lioQ8N3rcyqY"
      }
    },
    {
      "cell_type": "code",
      "source": [
        "import math\n",
        "from random import randrange\n",
        "import matplotlib.pyplot as plt\n",
        "from time import perf_counter"
      ],
      "metadata": {
        "id": "vMHD1I-DVK12"
      },
      "execution_count": 5,
      "outputs": []
    },
    {
      "cell_type": "code",
      "source": [
        "def distance(a, b):\n",
        "    \"\"\"Calculates the Euclidean distance between two points.\"\"\"\n",
        "    return math.sqrt((a[0] - b[0])**2 + (a[1] - b[1])**2)\n",
        "\n",
        "def generate_data(n):\n",
        "    \"\"\"Generates a random set of n points and the distances between them.\"\"\"\n",
        "    coords = [(randrange(100), randrange(100)) for _ in range(n)]\n",
        "    dists = [[0] * n for _ in range(n)]\n",
        "    for i in range(n):\n",
        "        for j in range(i + 1, n):\n",
        "            dists[i][j] = dists[j][i] = distance(coords[i], coords[j])\n",
        "    return dists, coords"
      ],
      "metadata": {
        "id": "YycV6mrVRTab"
      },
      "execution_count": 6,
      "outputs": []
    },
    {
      "cell_type": "code",
      "source": [
        "dists, coords = generate_data(10)\n",
        "\n",
        "# plot the points\n",
        "plt.plot(coords[0][0], coords[0][1], 'ro')\n",
        "plt.plot([p[0] for p in coords[1:]], [p[1] for p in coords[1:]], 'o')\n",
        "plt.show()"
      ],
      "metadata": {
        "id": "T0x200pkzH3L",
        "outputId": "ca3465ab-389b-4fea-97c7-eac6a4939b54",
        "colab": {
          "base_uri": "https://localhost:8080/",
          "height": 430
        }
      },
      "execution_count": 11,
      "outputs": [
        {
          "output_type": "display_data",
          "data": {
            "text/plain": [
              "<Figure size 640x480 with 1 Axes>"
            ],
            "image/png": "[encoded data removed]"
          },
          "metadata": {}
        }
      ]
    },
    {
      "cell_type": "markdown",
      "source": [
        "# 2. Classical PuLP Solver for **TSP**"
      ],
      "metadata": {
        "id": "hUsKO6CbEEu5"
      }
    },
    {
      "cell_type": "markdown",
      "source": [
        "### 2.1 Implementing the TSP solver using PuLP"
      ],
      "metadata": {
        "id": "bJ4nFNyaIPTo"
      }
    },
    {
      "cell_type": "markdown",
      "source": [
        "Install PuLP to solve the problem using integer linear programming,\n",
        "and import the required libraries."
      ],
      "metadata": {
        "id": "Sg-YCA-0nXkA"
      }
    },
    {
      "cell_type": "code",
      "source": [
        "!pip install pulp"
      ],
      "metadata": {
        "id": "4BqipipiQoTC",
        "outputId": "1bc89f6c-26ab-4c35-eb04-70930a35351f",
        "colab": {
          "base_uri": "https://localhost:8080/"
        }
      },
      "execution_count": 12,
      "outputs": [
        {
          "output_type": "stream",
          "name": "stdout",
          "text": [
            "Requirement already satisfied: pulp in /usr/local/lib/python3.11/dist-packages (2.9.0)\n"
          ]
        }
      ]
    },
    {
      "cell_type": "code",
      "source": [
        "from pulp import *\n",
        "from itertools import pairwise, permutations"
      ],
      "metadata": {
        "id": "S_0RxitFQ5s1"
      },
      "execution_count": 13,
      "outputs": []
    },
    {
      "cell_type": "markdown",
      "source": [
        "Here we define a function to generate the ILP model for the problem given a distance matrix for the nodes, using the MTZ formulation shown previously."
      ],
      "metadata": {
        "id": "a4MtFXlDcVTo"
      }
    },
    {
      "cell_type": "code",
      "source": [
        "def create_model(dists):\n",
        "    \"\"\"MTZ formulation for TSP\"\"\"\n",
        "    n = len(dists)\n",
        "    tsp = LpProblem(\"TSP\", LpMinimize)\n",
        "    # x_ij denotes if there is directed edge from node i to node j\n",
        "    x = LpVariable.dicts('x', [(i, j) for i in range(n) for j in range(n)], cat=LpBinary)\n",
        "    # u_i represents the order/rank of node i\n",
        "    u = LpVariable.dicts('u', range(n), 1, n, LpContinuous)\n",
        "\n",
        "    # add the objective function\n",
        "    tsp += lpSum(dists[i][j] * x[(i, j)] for i in range(n) for j in range(n))\n",
        "\n",
        "    # add the constraints\n",
        "    for i in range(n):\n",
        "        tsp += x[(i, i)] == 0 # no loops\n",
        "        tsp += lpSum(x[(i, j)] for j in range(n)) == 1 # outdegree == 1\n",
        "        tsp += lpSum(x[(j, i)] for j in range(n)) == 1 # indegree == 1\n",
        "\n",
        "    for i in range(n):\n",
        "        for j in range(n):\n",
        "            if i != j and i != 0 and j != 0:\n",
        "                tsp += u[i] - u[j] + n*x[(i, j)] <= n - 1 # subtour elimination\n",
        "\n",
        "    return tsp, x, u"
      ],
      "metadata": {
        "id": "pUrb3vg0Q__W"
      },
      "execution_count": 14,
      "outputs": []
    },
    {
      "cell_type": "markdown",
      "source": [
        "Create some implementations to solve the TSP using brute force and backtracking techniques."
      ],
      "metadata": {
        "id": "vngD1fuzn4OA"
      }
    },
    {
      "cell_type": "code",
      "source": [
        "def brute_force(dists):\n",
        "    \"\"\"Iterates over all possible routes to find the minimum. O(n!)\"\"\"\n",
        "    n = len(dists)\n",
        "    min_dist = math.inf\n",
        "    min_route = None\n",
        "    for route in permutations(range(1, n)):\n",
        "        dist = 0\n",
        "        u = 0\n",
        "        for v in route:\n",
        "            dist += dists[u][v]\n",
        "            u = v\n",
        "        dist += dists[u][0]\n",
        "        if dist < min_dist:\n",
        "            min_dist = dist\n",
        "            min_route = route\n",
        "    return min_dist, list(pairwise([0] + list(min_route) + [0]))\n",
        "\n",
        "def _backtracking(dists, u, dist, route, min_dist, min_route):\n",
        "    \"\"\"\n",
        "    Backtracking implementation.\n",
        "    Also O(n!), but should be faster than the naive implementation.\n",
        "    \"\"\"\n",
        "    if dist >= min_dist[0]:\n",
        "        # if the current distance is not lower than the minimum\n",
        "        # we have found so far, don't explore this route further.\n",
        "        return\n",
        "\n",
        "    n = len(dists)\n",
        "    if len(route) == n:\n",
        "        dist += dists[u][0]\n",
        "        if dist < min_dist[0]:\n",
        "            min_dist[0] = dist\n",
        "            min_route[:] = route + [0]\n",
        "        return\n",
        "\n",
        "    for v in range(n):\n",
        "        if v == u or v in route:\n",
        "            continue\n",
        "        route.append(v)\n",
        "        _backtracking(dists, v, dist + dists[u][v], route, min_dist, min_route)\n",
        "        route.pop()\n",
        "    return\n",
        "def backtracking(dists):\n",
        "    dist, route = [math.inf], [] # hack for pass by reference in python\n",
        "    _backtracking(dists, 0, 0, [0], dist, route)\n",
        "    return dist, list(pairwise(route))"
      ],
      "metadata": {
        "id": "pzP_-XkcRv_D"
      },
      "execution_count": 15,
      "outputs": []
    },
    {
      "cell_type": "markdown",
      "source": [
        "Create a function to plot the route we find."
      ],
      "metadata": {
        "id": "-0ZLEmP6tAXa"
      }
    },
    {
      "cell_type": "code",
      "source": [
        "# n = 10\n",
        "# dists, coords = generate_data(n)\n",
        "\n",
        "def plot_route(route, coords):\n",
        "    plt.plot(coords[0][0], coords[0][1], 'ro')\n",
        "    for u, v in route:\n",
        "        plt.plot([coords[u][0], coords[v][0]], [coords[u][1], coords[v][1]], 'b')"
      ],
      "metadata": {
        "id": "rgHhleeARQJz"
      },
      "execution_count": 16,
      "outputs": []
    },
    {
      "cell_type": "markdown",
      "source": [
        "Create and solve the ILP model, and plot the solution."
      ],
      "metadata": {
        "id": "eLvjyUintQ6B"
      }
    },
    {
      "cell_type": "code",
      "source": [
        "n = len(coords)\n",
        "start = perf_counter()\n",
        "model, x, _ = create_model(dists)\n",
        "status = model.solve()\n",
        "print(LpStatus[status], pulp.value(model.objective))\n",
        "route = [(i, j) for i in range(n) for j in range(n) if pulp.value(x[(i, j)]) == 1]\n",
        "end = perf_counter()\n",
        "t = end - start\n",
        "print(f\"Time taken: {t} seconds\")\n",
        "print(route)\n",
        "plot_route(route, coords)"
      ],
      "metadata": {
        "id": "tGPBzNaNRpMi",
        "outputId": "781a8878-17a6-430f-efe9-6b24a1799a8e",
        "colab": {
          "base_uri": "https://localhost:8080/",
          "height": 482
        }
      },
      "execution_count": 17,
      "outputs": [
        {
          "output_type": "stream",
          "name": "stdout",
          "text": [
            "Optimal 293.58578097246993\n",
            "Time taken: 0.19091109500004677 seconds\n",
            "[(0, 5), (1, 9), (2, 0), (3, 4), (4, 6), (5, 3), (6, 1), (7, 8), (8, 2), (9, 7)]\n"
          ]
        },
        {
          "output_type": "display_data",
          "data": {
            "text/plain": [
              "<Figure size 640x480 with 1 Axes>"
            ],
            "image/png": "[encoded data removed]"
          },
          "metadata": {}
        }
      ]
    },
    {
      "cell_type": "markdown",
      "source": [
        "Solve the problem using other techniques."
      ],
      "metadata": {
        "id": "M4kwtuK_tbNz"
      }
    },
    {
      "cell_type": "code",
      "source": [
        "dist, route = backtracking(dists)\n",
        "print(dist)\n",
        "print(route)\n",
        "plot_route(route, coords)"
      ],
      "metadata": {
        "id": "5gwgX0GFRzP0",
        "outputId": "3b9ed554-898d-4553-ef70-48566bc8d5d1",
        "colab": {
          "base_uri": "https://localhost:8080/",
          "height": 465
        }
      },
      "execution_count": 18,
      "outputs": [
        {
          "output_type": "stream",
          "name": "stdout",
          "text": [
            "[293.58578097246993]\n",
            "[(0, 2), (2, 8), (8, 7), (7, 9), (9, 1), (1, 6), (6, 4), (4, 3), (3, 5), (5, 0)]\n"
          ]
        },
        {
          "output_type": "display_data",
          "data": {
            "text/plain": [
              "<Figure size 640x480 with 1 Axes>"
            ],
            "image/png": "[encoded data removed]"
          },
          "metadata": {}
        }
      ]
    },
    {
      "cell_type": "code",
      "source": [
        "dist, route = brute_force(dists)\n",
        "print(dist)\n",
        "print(route)\n",
        "plot_route(route, coords)"
      ],
      "metadata": {
        "id": "TriNfxUAt669",
        "outputId": "f81100eb-7cb9-41c8-9fba-add202ad4250",
        "colab": {
          "base_uri": "https://localhost:8080/",
          "height": 465
        }
      },
      "execution_count": 19,
      "outputs": [
        {
          "output_type": "stream",
          "name": "stdout",
          "text": [
            "293.58578097246993\n",
            "[(0, 2), (2, 8), (8, 7), (7, 9), (9, 1), (1, 6), (6, 4), (4, 3), (3, 5), (5, 0)]\n"
          ]
        },
        {
          "output_type": "display_data",
          "data": {
            "text/plain": [
              "<Figure size 640x480 with 1 Axes>"
            ],
            "image/png": "[encoded data removed]"
          },
          "metadata": {}
        }
      ]
    },
    {
      "cell_type": "markdown",
      "source": [
        "We can confirm that the ILP solution is optimal because it matches that of the brute force implementation."
      ],
      "metadata": {
        "id": "J7xFbFcUzw9Y"
      }
    },
    {
      "cell_type": "markdown",
      "source": [
        "### 2.2 Analysis of Results"
      ],
      "metadata": {
        "id": "4JWiJmqVIiU-"
      }
    },
    {
      "cell_type": "code",
      "source": [
        "samples = 5\n",
        "N = 16\n",
        "sizes = range(3, N + 1)\n",
        "problems = [(n, [generate_data(n)[0] for _ in range(samples)]) for n in sizes]\n",
        "\n",
        "ilp_times = []\n",
        "for n, dists in problems:\n",
        "    total_time  = 0\n",
        "    for dist in dists:\n",
        "        start = perf_counter()\n",
        "        model, x, _ = create_model(dist)\n",
        "        status = model.solve()\n",
        "        total_time += perf_counter() - start\n",
        "    ilp_times.append(total_time / samples)\n",
        "\n",
        "backtracking_times = []\n",
        "for n, dists in problems[:11]:\n",
        "    total_time  = 0\n",
        "    for dist in dists:\n",
        "        start = perf_counter()\n",
        "        backtracking(dist)\n",
        "        total_time += perf_counter() - start\n",
        "    backtracking_times.append(total_time / samples)\n",
        "\n",
        "\n",
        "\n",
        "plt.plot(sizes, ilp_times, '-ro', label=\"PuLP\")\n",
        "plt.plot(sizes[:len(backtracking_times)], backtracking_times, '-bo', label=\"Backtracking\")\n",
        "plt.xlabel(\"Number of nodes\")\n",
        "plt.ylabel(\"Time (ms)\")\n",
        "plt.legend(loc='upper left')\n",
        "plt.show()"
      ],
      "metadata": {
        "id": "Sqg_pAjj0Gbv",
        "outputId": "b6cbe4e9-1105-4bd8-9e44-25b6aac8e348",
        "colab": {
          "base_uri": "https://localhost:8080/",
          "height": 449
        }
      },
      "execution_count": 21,
      "outputs": [
        {
          "output_type": "display_data",
          "data": {
            "text/plain": [
              "<Figure size 640x480 with 1 Axes>"
            ],
            "image/png": "[encoded data removed]"
          },
          "metadata": {}
        }
      ]
    },
    {
      "cell_type": "markdown",
      "source": [
        "We can see that the backtracking approach is initially faster than PuLP for small $n$ (<12) due to the overhead of the ILP solver. However, it quickly blows up due to the exponential nature of the backtracking algorithm, where the ILP solver is much faster for larger values of $n$."
      ],
      "metadata": {
        "id": "uDFJUJLklyC8"
      }
    },
    {
      "cell_type": "markdown",
      "source": [
        "# 3. Exact Solver for QUBO Formulation"
      ],
      "metadata": {
        "id": "XOB3cSctHeEa"
      }
    },
    {
      "cell_type": "markdown",
      "source": [
        "### 3.1 Exact Solver Approach\n"
      ],
      "metadata": {
        "id": "KEU5Z9qWItBx"
      }
    },
    {
      "cell_type": "markdown",
      "source": [
        "The Minimum Eigen Optimizer is a classical algorithm provided by Qiskit that leverages the NumPyMinimumEigensolver to find the exact solution to the QUBO problem. This solver is particularly useful for small-scale problems where an exact solution is feasible, as it avoids the exponential complexity of brute force methods.\n"
      ],
      "metadata": {
        "id": "xqEy8yx7QsQL"
      }
    },
    {
      "cell_type": "markdown",
      "source": [
        "### 3.2 Implementation and Testing\n"
      ],
      "metadata": {
        "id": "Vg954gLhIs1i"
      }
    },
    {
      "cell_type": "markdown",
      "source": [
        "First, we import the necessary modules from Qiskit to use the MinimumEigenOptimizer and NumPyMinimumEigensolver. These tools allow us to solve the QUBO problem by finding the minimum eigenvalue of the corresponding Hamiltonian."
      ],
      "metadata": {
        "id": "Z8JMRZkhlX8Z"
      }
    },
    {
      "cell_type": "code",
      "source": [
        "from qiskit_algorithms import NumPyMinimumEigensolver\n",
        "from qiskit_optimization.algorithms import MinimumEigenOptimizer"
      ],
      "metadata": {
        "id": "x18N_WcGQpOl"
      },
      "execution_count": 22,
      "outputs": []
    },
    {
      "cell_type": "markdown",
      "source": [
        "Next, we use the MinimumEigenOptimizer to solve the QUBO model that we previously converted from the ILP formulation. The solver will return the optimal solution, which corresponds to the edges that minimizes the objective function."
      ],
      "metadata": {
        "id": "hb4N1dfHlb11"
      }
    },
    {
      "cell_type": "code",
      "source": [
        "me_dists, me_coords = generate_data(3)\n",
        "model_quad = TSP_as_ILP(me_dists, print_model=False)\n",
        "qubo = convert_ILP_to_QUBO(model_quad, print_model=False)\n",
        "variable_names = qubo.variables # Save Variables name to map them later\n",
        "\n",
        "exact = MinimumEigenOptimizer(NumPyMinimumEigensolver()) # define the solver to have the exact solution\n",
        "result = exact.solve(qubo)"
      ],
      "metadata": {
        "id": "NjEIdnZEQIuk"
      },
      "execution_count": 30,
      "outputs": []
    },
    {
      "cell_type": "code",
      "source": [
        "def interpret_result(solution):\n",
        "  keys = [k for k, v in solution.items() if v == 1]\n",
        "  edges = []\n",
        "  for x in keys:\n",
        "      _ = x.split(\"_\")\n",
        "      if _[0] == \"x\":\n",
        "          i, j = int(_[1]), int(_[2])\n",
        "          edges.append((i, j))\n",
        "  return edges"
      ],
      "metadata": {
        "id": "cIZdlL07Xeux"
      },
      "execution_count": 24,
      "outputs": []
    },
    {
      "cell_type": "markdown",
      "source": [
        "Then we interpret the result to draw the route given by the exact solver."
      ],
      "metadata": {
        "id": "_vDNtK7YmnRH"
      }
    },
    {
      "cell_type": "code",
      "source": [
        "edges = interpret_result(result.variables_dict)\n",
        "plot_route(edges, me_coords)\n",
        "cost = result.fval\n",
        "print(cost)"
      ],
      "metadata": {
        "id": "COHTzXvUZ7Co",
        "outputId": "fd3245bf-f682-46fb-9b4d-edc86cd6c79c",
        "colab": {
          "base_uri": "https://localhost:8080/",
          "height": 447
        }
      },
      "execution_count": 25,
      "outputs": [
        {
          "output_type": "stream",
          "name": "stdout",
          "text": [
            "134.28779746926466\n"
          ]
        },
        {
          "output_type": "display_data",
          "data": {
            "text/plain": [
              "<Figure size 640x480 with 1 Axes>"
            ],
            "image/png": "[encoded data removed]"
          },
          "metadata": {}
        }
      ]
    },
    {
      "cell_type": "markdown",
      "source": [
        "### 3.3 Advantages of the Minimum Eigen Optimizer\n",
        "The MinimumEigenOptimizer offers several advantages over brute force methods:\n",
        "\n",
        "**Exact Solution:** It guarantees the exact solution for small-scale problems.\n",
        "\n",
        "**Efficiency:** It avoids the exponential complexity of brute force methods, making it more efficient for problems where the exact solution is feasible.\n",
        "\n",
        "**Integration with Qiskit:** It seamlessly integrates with other Qiskit tools, allowing for easy comparison with quantum algorithms.\n",
        "\n",
        "\n"
      ],
      "metadata": {
        "id": "eFyY16Cyk8_-"
      }
    },
    {
      "cell_type": "markdown",
      "source": [
        "### 3.4 Limitations\n",
        "\n",
        "Even when using a classical solver like the NumPyMinimumEigensolver, the problem remains framed in terms of qubits because the Hamiltonian is constructed using Pauli operators, which are inherently tied to qubit-based systems. This design ensures that the same framework can be used for both classical and quantum solvers, maintaining compatibility with quantum algorithms when necessary. However, this qubit-based representation becomes a limitation for large-scale instances. As the problem size grows, the number of qubits required increases exponentially, making the classical solver computationally infeasible due to the exponential growth of the solution space. This is why, for large instances, quantum or heuristic methods are often preferred, as they can potentially handle the complexity more efficiently.\n"
      ],
      "metadata": {
        "id": "JRAk4a16nplr"
      }
    },
    {
      "cell_type": "markdown",
      "source": [
        "# 4. Quantum Annealing Simulators to solve the QUBO\n",
        "\n",
        "Quantum annealing is a heuristic optimization technique that leverages quantum mechanics to find the global minimum of a given objective function. In the context of the Traveling Salesman Problem (TSP), quantum annealing can be used to solve the QUBO formulation by exploring the energy landscape of the problem and finding the configuration of variables that minimizes the objective function."
      ],
      "metadata": {
        "id": "opQJykrPHekZ"
      }
    },
    {
      "cell_type": "markdown",
      "source": [
        "### 4.1 Setting up the Quantum Annealing Simulator"
      ],
      "metadata": {
        "id": "NLvZFG8NJRj5"
      }
    },
    {
      "cell_type": "markdown",
      "source": [
        "To implement quantum annealing, we will use the D-Wave Ocean SDK, which provides tools for formulating and solving QUBO problems on quantum annealers. The first step is to import the necessary modules and set up the D-Wave system."
      ],
      "metadata": {
        "id": "bntj0VaIqlwm"
      }
    },
    {
      "cell_type": "code",
      "source": [
        "from dwave.samplers import SimulatedAnnealingSampler\n",
        "from dimod import BinaryQuadraticModel"
      ],
      "metadata": {
        "id": "wb-kTw12qBUg"
      },
      "execution_count": 26,
      "outputs": []
    },
    {
      "cell_type": "markdown",
      "source": [
        "Then create a sampler instance."
      ],
      "metadata": {
        "id": "9cheHMLoqrOU"
      }
    },
    {
      "cell_type": "code",
      "source": [
        "sampler = SimulatedAnnealingSampler() # D-Wave Quantuam Sampler"
      ],
      "metadata": {
        "id": "MHdZeYvhKmYV"
      },
      "execution_count": 27,
      "outputs": []
    },
    {
      "cell_type": "markdown",
      "source": [
        "Next, we need to convert the QUBO model into a format that can be processed by the D-Wave quantum annealer. This involves creating a BinaryQuadraticModel (BQM) from the QUBO coefficients.\n",
        "\n"
      ],
      "metadata": {
        "id": "67y2GNzFqw1Q"
      }
    },
    {
      "cell_type": "code",
      "source": [
        "#Break Down the Qiskit QUBO to its components\n",
        "qa_dists, qa_coords = generate_data(5)\n",
        "model_quad = TSP_as_ILP(qa_dists, print_model=False)\n",
        "qubo = convert_ILP_to_QUBO(model_quad, print_model=False)\n",
        "variable_names = qubo.variables # Save Variables name to map them later\n",
        "\n",
        "qubo_dict = qubo.objective.quadratic.to_dict()\n",
        "linear = qubo.objective.linear.to_dict()\n",
        "offset = qubo.objective.constant\n",
        "\n",
        "#Convert To D-Wave BQM\n",
        "bqm = BinaryQuadraticModel(linear, qubo_dict, offset, 'BINARY')"
      ],
      "metadata": {
        "id": "Xxdt_BRZqxc3"
      },
      "execution_count": 36,
      "outputs": []
    },
    {
      "cell_type": "markdown",
      "source": [
        "### 4.2 Solving TSP Instances\n"
      ],
      "metadata": {
        "id": "-UTkCUoKJRPd"
      }
    },
    {
      "cell_type": "markdown",
      "source": [
        "After running the quantum annealer, we can extract the best solution from the response. The solution will be a binary vector that represents the optimal route for the TSP."
      ],
      "metadata": {
        "id": "zI172jK2X2s6"
      }
    },
    {
      "cell_type": "code",
      "source": [
        "start = perf_counter()\n",
        "sampleset = sampler.sample(bqm, num_reads=1000)\n",
        "best_solution = sampleset.first.sample\n",
        "end = perf_counter()\n",
        "t = end - start\n",
        "print(f\"Time taken: {t} seconds\")"
      ],
      "metadata": {
        "id": "ogtld4LaqPIR",
        "outputId": "94db0a2f-7ac8-434e-d5c1-6dc2f36bcac4",
        "colab": {
          "base_uri": "https://localhost:8080/"
        }
      },
      "execution_count": 37,
      "outputs": [
        {
          "output_type": "stream",
          "name": "stdout",
          "text": [
            "Time taken: 2.8802111740005785 seconds\n"
          ]
        }
      ]
    },
    {
      "cell_type": "markdown",
      "source": [
        "Finally, we can map the binary solution back to the original problem variables to determine the optimal route and calculate the total distance."
      ],
      "metadata": {
        "id": "Ao9toMe_YDvF"
      }
    },
    {
      "cell_type": "code",
      "source": [
        "# Map integer keys to variable names\n",
        "variable_mapping = {i: name for i, name in enumerate(variable_names)}\n",
        "print(\"Variable Mapping:\", variable_mapping)\n",
        "\n",
        "# Example: Convert best_solution (integer keys) to variable names\n",
        "best_solution_with_names = {variable_mapping[key]: value for key, value in best_solution.items() if key in variable_mapping}\n",
        "print(\"Best Solution with Variable Names:\", best_solution_with_names)\n",
        "# Precompute active edges\n",
        "active_edges = []\n",
        "for var, value in best_solution_with_names.items():\n",
        "    if value == 1 and var.name.startswith(\"x_\"):  # Ensure it's an edge variable\n",
        "        parts = var.name.split(\"_\")  # Split the variable name into parts\n",
        "        i = int(parts[1])       # Extract i\n",
        "        j = int(parts[2])       # Extract j\n",
        "        active_edges.append((i, j))\n",
        "print(\"Active Edges:\", active_edges)\n",
        "sum = 0\n",
        "for edge in active_edges:\n",
        "    sum += qa_dists[edge[0]][edge[1]]\n",
        "print(sum)"
      ],
      "metadata": {
        "id": "wlRXRUUarRE3",
        "outputId": "465d2cef-4948-416f-f291-f85774ef640d",
        "colab": {
          "base_uri": "https://localhost:8080/"
        }
      },
      "execution_count": 38,
      "outputs": [
        {
          "output_type": "stream",
          "name": "stdout",
          "text": [
            "Variable Mapping: {0: <Variable: x_0_1 (binary)>, 1: <Variable: x_0_2 (binary)>, 2: <Variable: x_0_3 (binary)>, 3: <Variable: x_0_4 (binary)>, 4: <Variable: x_1_0 (binary)>, 5: <Variable: x_1_2 (binary)>, 6: <Variable: x_1_3 (binary)>, 7: <Variable: x_1_4 (binary)>, 8: <Variable: x_2_0 (binary)>, 9: <Variable: x_2_1 (binary)>, 10: <Variable: x_2_3 (binary)>, 11: <Variable: x_2_4 (binary)>, 12: <Variable: x_3_0 (binary)>, 13: <Variable: x_3_1 (binary)>, 14: <Variable: x_3_2 (binary)>, 15: <Variable: x_3_4 (binary)>, 16: <Variable: x_4_0 (binary)>, 17: <Variable: x_4_1 (binary)>, 18: <Variable: x_4_2 (binary)>, 19: <Variable: x_4_3 (binary)>, 20: <Variable: t_0@0 (binary)>, 21: <Variable: t_0@1 (binary)>, 22: <Variable: t_0@2 (binary)>, 23: <Variable: t_1@0 (binary)>, 24: <Variable: t_1@1 (binary)>, 25: <Variable: t_1@2 (binary)>, 26: <Variable: t_2@0 (binary)>, 27: <Variable: t_2@1 (binary)>, 28: <Variable: t_2@2 (binary)>, 29: <Variable: t_3@0 (binary)>, 30: <Variable: t_3@1 (binary)>, 31: <Variable: t_3@2 (binary)>, 32: <Variable: t_4@0 (binary)>, 33: <Variable: t_4@1 (binary)>, 34: <Variable: t_4@2 (binary)>, 35: <Variable: subtour_1_2@int_slack@0 (binary)>, 36: <Variable: subtour_1_2@int_slack@1 (binary)>, 37: <Variable: subtour_1_2@int_slack@2 (binary)>, 38: <Variable: subtour_1_3@int_slack@0 (binary)>, 39: <Variable: subtour_1_3@int_slack@1 (binary)>, 40: <Variable: subtour_1_3@int_slack@2 (binary)>, 41: <Variable: subtour_1_4@int_slack@0 (binary)>, 42: <Variable: subtour_1_4@int_slack@1 (binary)>, 43: <Variable: subtour_1_4@int_slack@2 (binary)>, 44: <Variable: subtour_2_1@int_slack@0 (binary)>, 45: <Variable: subtour_2_1@int_slack@1 (binary)>, 46: <Variable: subtour_2_1@int_slack@2 (binary)>, 47: <Variable: subtour_2_3@int_slack@0 (binary)>, 48: <Variable: subtour_2_3@int_slack@1 (binary)>, 49: <Variable: subtour_2_3@int_slack@2 (binary)>, 50: <Variable: subtour_2_4@int_slack@0 (binary)>, 51: <Variable: subtour_2_4@int_slack@1 (binary)>, 52: <Variable: subtour_2_4@int_slack@2 (binary)>, 53: <Variable: subtour_3_1@int_slack@0 (binary)>, 54: <Variable: subtour_3_1@int_slack@1 (binary)>, 55: <Variable: subtour_3_1@int_slack@2 (binary)>, 56: <Variable: subtour_3_2@int_slack@0 (binary)>, 57: <Variable: subtour_3_2@int_slack@1 (binary)>, 58: <Variable: subtour_3_2@int_slack@2 (binary)>, 59: <Variable: subtour_3_4@int_slack@0 (binary)>, 60: <Variable: subtour_3_4@int_slack@1 (binary)>, 61: <Variable: subtour_3_4@int_slack@2 (binary)>, 62: <Variable: subtour_4_1@int_slack@0 (binary)>, 63: <Variable: subtour_4_1@int_slack@1 (binary)>, 64: <Variable: subtour_4_1@int_slack@2 (binary)>, 65: <Variable: subtour_4_2@int_slack@0 (binary)>, 66: <Variable: subtour_4_2@int_slack@1 (binary)>, 67: <Variable: subtour_4_2@int_slack@2 (binary)>, 68: <Variable: subtour_4_3@int_slack@0 (binary)>, 69: <Variable: subtour_4_3@int_slack@1 (binary)>, 70: <Variable: subtour_4_3@int_slack@2 (binary)>}\n",
            "Best Solution with Variable Names: {<Variable: x_0_1 (binary)>: 0, <Variable: x_0_2 (binary)>: 0, <Variable: x_0_3 (binary)>: 1, <Variable: x_0_4 (binary)>: 0, <Variable: x_1_0 (binary)>: 0, <Variable: x_1_2 (binary)>: 1, <Variable: x_1_3 (binary)>: 0, <Variable: x_1_4 (binary)>: 0, <Variable: x_2_0 (binary)>: 0, <Variable: x_2_1 (binary)>: 0, <Variable: x_2_3 (binary)>: 0, <Variable: x_2_4 (binary)>: 1, <Variable: x_3_0 (binary)>: 0, <Variable: x_3_1 (binary)>: 1, <Variable: x_3_2 (binary)>: 0, <Variable: x_3_4 (binary)>: 0, <Variable: x_4_0 (binary)>: 1, <Variable: x_4_1 (binary)>: 0, <Variable: x_4_2 (binary)>: 0, <Variable: x_4_3 (binary)>: 0, <Variable: t_1@0 (binary)>: 1, <Variable: t_1@1 (binary)>: 0, <Variable: t_1@2 (binary)>: 1, <Variable: t_2@0 (binary)>: 0, <Variable: t_2@1 (binary)>: 1, <Variable: t_2@2 (binary)>: 1, <Variable: t_3@0 (binary)>: 1, <Variable: t_3@1 (binary)>: 0, <Variable: t_3@2 (binary)>: 0, <Variable: t_4@0 (binary)>: 1, <Variable: t_4@1 (binary)>: 1, <Variable: t_4@2 (binary)>: 1, <Variable: subtour_1_2@int_slack@0 (binary)>: 0, <Variable: subtour_1_2@int_slack@1 (binary)>: 0, <Variable: subtour_1_2@int_slack@2 (binary)>: 0, <Variable: subtour_1_3@int_slack@0 (binary)>: 0, <Variable: subtour_1_3@int_slack@1 (binary)>: 1, <Variable: subtour_1_3@int_slack@2 (binary)>: 0, <Variable: subtour_1_4@int_slack@0 (binary)>: 1, <Variable: subtour_1_4@int_slack@1 (binary)>: 0, <Variable: subtour_1_4@int_slack@2 (binary)>: 1, <Variable: subtour_2_1@int_slack@0 (binary)>: 0, <Variable: subtour_2_1@int_slack@1 (binary)>: 1, <Variable: subtour_2_1@int_slack@2 (binary)>: 0, <Variable: subtour_2_3@int_slack@0 (binary)>: 1, <Variable: subtour_2_3@int_slack@1 (binary)>: 0, <Variable: subtour_2_3@int_slack@2 (binary)>: 0, <Variable: subtour_2_4@int_slack@0 (binary)>: 0, <Variable: subtour_2_4@int_slack@1 (binary)>: 0, <Variable: subtour_2_4@int_slack@2 (binary)>: 0, <Variable: subtour_3_1@int_slack@0 (binary)>: 0, <Variable: subtour_3_1@int_slack@1 (binary)>: 0, <Variable: subtour_3_1@int_slack@2 (binary)>: 0, <Variable: subtour_3_2@int_slack@0 (binary)>: 1, <Variable: subtour_3_2@int_slack@1 (binary)>: 0, <Variable: subtour_3_2@int_slack@2 (binary)>: 1, <Variable: subtour_3_4@int_slack@0 (binary)>: 0, <Variable: subtour_3_4@int_slack@1 (binary)>: 1, <Variable: subtour_3_4@int_slack@2 (binary)>: 1, <Variable: subtour_4_1@int_slack@0 (binary)>: 1, <Variable: subtour_4_1@int_slack@1 (binary)>: 0, <Variable: subtour_4_1@int_slack@2 (binary)>: 0, <Variable: subtour_4_2@int_slack@0 (binary)>: 0, <Variable: subtour_4_2@int_slack@1 (binary)>: 1, <Variable: subtour_4_2@int_slack@2 (binary)>: 0, <Variable: subtour_4_3@int_slack@0 (binary)>: 0, <Variable: subtour_4_3@int_slack@1 (binary)>: 0, <Variable: subtour_4_3@int_slack@2 (binary)>: 0}\n",
            "Active Edges: [(0, 3), (1, 2), (2, 4), (3, 1), (4, 0)]\n",
            "208.54021690203245\n"
          ]
        }
      ]
    },
    {
      "cell_type": "markdown",
      "source": [
        "To analyze the performance of the quantum annealing approach, we can compare the results obtained from the quantum annealer with the exact solution found using classical methods. This will help us understand the accuracy and efficiency of quantum annealing for solving the TSP."
      ],
      "metadata": {
        "id": "2ZunIwuiYTRD"
      }
    },
    {
      "cell_type": "code",
      "source": [
        "plot_route(active_edges, qa_coords)"
      ],
      "metadata": {
        "id": "hVIO6bfctMU3",
        "outputId": "29fa8fb3-3be4-41dc-aec4-b9dff20448be",
        "colab": {
          "base_uri": "https://localhost:8080/",
          "height": 430
        }
      },
      "execution_count": 39,
      "outputs": [
        {
          "output_type": "display_data",
          "data": {
            "text/plain": [
              "<Figure size 640x480 with 1 Axes>"
            ],
            "image/png": "[encoded data removed]"
          },
          "metadata": {}
        }
      ]
    },
    {
      "cell_type": "markdown",
      "source": [
        "### 4.3 Analysis of Quantum Annealing Results\n",
        "\n",
        "To analyze the performance of the quantum annealing approach, we can compare the results obtained from the quantum annealer with the exact solution found using classical methods. This will help us understand the accuracy and efficiency of quantum annealing for solving the TSP."
      ],
      "metadata": {
        "id": "gG4OmE1EJRB3"
      }
    },
    {
      "cell_type": "markdown",
      "source": [
        "# 5. Comparative Analysis and Conclusion"
      ],
      "metadata": {
        "id": "6jD6C6GGJ-AR"
      }
    },
    {
      "cell_type": "code",
      "source": [
        "import numpy as np\n",
        "#Break Down the Qiskit QUBO to its components\n",
        "def create_BQM(dists):\n",
        "    model_quad = TSP_as_ILP(dists, print_model=False)\n",
        "    qubo = convert_ILP_to_QUBO(model_quad, print_model=False)\n",
        "    variable_names = qubo.variables # Save Variables name to map them later\n",
        "\n",
        "    quad = qubo.objective.quadratic.to_dict()\n",
        "    linear = qubo.objective.linear.to_dict()\n",
        "    offset = qubo.objective.constant\n",
        "\n",
        "    #Convert To D-Wave BQM\n",
        "    return BinaryQuadraticModel(linear, quad, offset, 'BINARY')"
      ],
      "metadata": {
        "id": "mYdZFC1Gl2Q4"
      },
      "execution_count": 40,
      "outputs": []
    },
    {
      "cell_type": "code",
      "source": [
        "sizes = range(3, 14)\n",
        "bests = []\n",
        "modes = []\n",
        "worsts = []\n",
        "pulp_data = []\n",
        "for n in sizes:\n",
        "    dists, coords = generate_data(n)\n",
        "    bqm = create_BQM(dists)\n",
        "    sampleset = sampler.sample(bqm, num_reads=1000)\n",
        "\n",
        "    records = np.array([r.energy for r in sampleset.record])\n",
        "    energies, counts = np.unique(records, return_counts=True)\n",
        "\n",
        "    mode = energies[np.argmax(counts)]\n",
        "    bests.append(mode - energies[0])\n",
        "    modes.append(mode)\n",
        "    worsts.append(energies[-1] - mode)\n",
        "\n",
        "    model, _, _ = create_model(dists)\n",
        "    status = model.solve()\n",
        "    pulp_data.append(pulp.value(model.objective))\n",
        "\n",
        "plt.errorbar(sizes, modes, yerr=[bests, worsts], fmt='co', label='Quantum Annealing')\n",
        "plt.plot(sizes, pulp_data, 'r+', label=\"PuLP\")\n",
        "plt.legend(loc='upper left')\n",
        "plt.xlabel(\"Number of nodes\")\n",
        "plt.ylabel(\"Energy (Solution)\")\n",
        "plt.show()"
      ],
      "metadata": {
        "outputId": "a01c168c-8198-401d-e465-58b648a1cf33",
        "colab": {
          "base_uri": "https://localhost:8080/",
          "height": 449
        },
        "id": "-95Gd0MxyGFM"
      },
      "execution_count": null,
      "outputs": [
        {
          "output_type": "display_data",
          "data": {
            "text/plain": [
              "<Figure size 640x480 with 1 Axes>"
            ],
            "image/png": "[encoded data removed]"
          },
          "metadata": {}
        }
      ]
    },
    {
      "cell_type": "markdown",
      "source": [
        "Comparing the optimal solutions from the classical solver with the quantum annealing, we observe that quantum annealing solutions fall behind as $n$ grows larger. Also that for larger values of $n$, quantum annealing fails to find a valid solution within the constraints, possibly due to falling into a local minimum in the energy landscape."
      ],
      "metadata": {
        "id": "CKj4QBNDkQcM"
      }
    },
    {
      "cell_type": "markdown",
      "source": [
        "#### 5.1 Comparative Performance Analysis\n",
        "In this project, we compared different optimization techniques for solving the Traveling Salesman Problem (TSP), including Integer Linear Programming (ILP), Quadratic Unconstrained Binary Optimization (QUBO), and Quantum Annealing. The classical solutions were implemented using the PuLP solver for ILP and backtracking algorithms, while the quantum solutions involved using the D-Wave Quantum Annealing Simulator.\n",
        "\n",
        "####Key Performance Metrics:\n",
        "\n",
        "ILP with PuLP: Classical ILP solvers like PuLP were able to provide optimal solutions for small to medium-sized TSP instances. The time complexity grows quickly as the number of cities increases, with performance becoming less efficient for larger datasets due to the exponential growth in possible permutations of city arrangements.\n",
        "\n",
        "Brute Force and Backtracking: Brute force, while guaranteeing an optimal solution, becomes impractical for larger TSP instances due to its factorial time complexity. Backtracking, a more efficient approach than brute force, showed moderate improvements for smaller problem sizes but still faced significant computational bottlenecks as problem size grew.\n",
        "\n",
        "QUBO Conversion & Quantum Annealing: The QUBO formulation and its solution via Quantum Annealing showcased promising potential for handling larger instances. When implemented on a simulator, the Simulated Annealing Sampler was able to explore larger solution spaces, albeit with an increase in time complexity for very large datasets. The performance of quantum annealing becomes more noticeable when using actual quantum hardware with significant qubits, such as those provided by D-Wave systems.\n",
        "\n",
        "Performance Trends: For smaller instances (fewer than 15 cities), the classical ILP solvers (PuLP) and quantum annealing methods performed similarly, with the quantum annealing method showing comparable or even slower performance in some cases. This can be attributed to the limitations of using a simulator rather than actual quantum hardware, which introduces significant overheads in emulating quantum processes on classical systems. As a result, quantum annealing on simulators did not provide a speed advantage over classical methods for medium-sized problems.\n",
        "\n",
        "On the other hand, backtracking was much slower than both the ILP solvers and quantum annealing, particularly as the number of cities increased. Backtracking, though able to guarantee optimal solutions, suffers from factorial time complexity, which makes it impractical for even moderately sized problem instances. While it is more efficient than brute force, its performance remained significantly slower compared to the other two methods for the same problem sizes.\n",
        "\n",
        "Thus, although quantum annealing holds potential for large-scale optimization tasks, the simulation-based approach tested here did not show an advantage over classical ILP solvers for the sizes tested. The backtracking method, while exact, was slower than both ILP and quantum annealing, making it less viable for larger problem instances.\n",
        "\n",
        "The comparison between classical and quantum approaches highlights the potential of quantum computing in optimization tasks, particularly for large problem instances. While classical methods provide exact solutions with high efficiency for small to medium-sized problems, quantum annealing could eventually outperform classical methods for larger, more complex datasets, particularly with the continued development of quantum hardware."
      ],
      "metadata": {
        "id": "LCvNRVkBKrK6"
      }
    },
    {
      "cell_type": "markdown",
      "source": [
        "#### 5.2 Conclusion\n",
        "This project explored a range of optimization techniques for solving the Traveling Salesman Problem, including both classical and quantum approaches.\n",
        "\n",
        "Classical Methods: Classical techniques, including ILP and backtracking, remain highly effective for small problem sizes, offering exact solutions with reasonable computational resources. However, as the problem size increases, these methods become less scalable due to their computational complexity.\n",
        "\n",
        "Quantum Annealing: Quantum Annealing, through its conversion to the QUBO formulation, demonstrated strong potential for solving larger-scale optimization problems. While simulations using quantum hardware (such as D-Wave's Annealing Sampler) are still in the experimental phase, they provide a glimpse into how quantum computing might provide more efficient solutions for complex optimization problems in the future.\n",
        "\n",
        "In conclusion, while classical methods are currently sufficient for smaller instances of the TSP, quantum optimization offers an exciting path forward for tackling large-scale problems. As quantum computing technologies mature and become more accessible, they are likely to complement classical methods and provide a significant leap in optimization capabilities, enabling the solution of problems that are currently computationally infeasible.\n",
        "\n",
        "Future work can focus on further optimizing quantum algorithms for practical applications, exploring hybrid approaches that combine classical and quantum techniques, and testing on larger quantum hardware to evaluate real-world feasibility."
      ],
      "metadata": {
        "id": "pupC_TlIKqXk"
      }
    }
  ]
}