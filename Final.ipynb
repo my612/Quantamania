{
  "nbformat": 4,
  "nbformat_minor": 0,
  "metadata": {
    "colab": {
      "provenance": [],
      "include_colab_link": true
    },
    "kernelspec": {
      "name": "python3",
      "display_name": "Python 3"
    },
    "language_info": {
      "name": "python"
    }
  },
  "cells": [
    {
      "cell_type": "markdown",
      "metadata": {
        "id": "view-in-github",
        "colab_type": "text"
      },
      "source": [
        "<a href=\"https://colab.research.google.com/github/my612/Quantamania/blob/main/Final.ipynb\" target=\"_parent\"><img src=\"https://colab.research.google.com/assets/colab-badge.svg\" alt=\"Open In Colab\"/></a>"
      ]
    },
    {
      "cell_type": "markdown",
      "source": [
        "# Traveling Salesman Problem (TSP) Optimization"
      ],
      "metadata": {
        "id": "AdeHloqdDZ3L"
      }
    },
    {
      "cell_type": "markdown",
      "source": [
        "# 1. From Integer Linear Programming (ILP) to Quadratic Unconstrained Binary Optimization (QUBO)"
      ],
      "metadata": {
        "id": "vbRPrJ-dHR69"
      }
    },
    {
      "cell_type": "markdown",
      "source": [
        "## 1.1 ILP Problem Definition"
      ],
      "metadata": {
        "id": "dgMvzoRGELCm"
      }
    },
    {
      "cell_type": "markdown",
      "source": [
        "### Problem Description\n",
        "\n",
        "The Traveling Salesman Problem (TSP) is a classic optimization problem where the goal is to find the shortest possible route that visits each city exactly once and returns to the origin city. Given a set of cities and the distances between each pair of cities, the objective is to determine the optimal tour with the minimum total travel distance.\n",
        "\n",
        "### MTZ Formulation\n",
        "\n",
        "The Miller-Tucker-Zemlin (MTZ) formulation is a well-known Integer Linear Programming (ILP) approach to solve the TSP. It introduces additional variables to prevent subtours, ensuring a single contiguous tour.\n",
        "\n",
        "### Variables\n",
        "\n",
        "- $( x_{ij} )$: Binary variable indicating whether the path goes directly from city $( i )$ to city $( j )$.\n",
        "- $( u_i )$: Auxiliary variable representing the order or rank of city $( i $) in the tour.\n",
        "\n",
        "### Objective Function\n",
        "\n",
        "Minimize the total travel distance:\n",
        "$$\n",
        "\\text{minimize} \\quad \\sum_{i=1}^{n} \\sum_{j=1}^{n} d_{ij} x_{ij}\n",
        "$$\n",
        "where $( d_{ij} )$ is the distance from city $( i $) to city $( j $).\n",
        "\n",
        "### Constraints\n",
        "\n",
        "1. **Outgoing arcs:**\n",
        "   $$\n",
        "   \\sum_{j=1, j \\neq i}^{n} x_{ij} = 1 \\quad \\forall i = 1, 2, \\dots, n\n",
        "   $$\n",
        "2. **Incoming arcs:**\n",
        "   $$\n",
        "   \\sum_{i=1, i \\neq j}^{n} x_{ij} = 1 \\quad \\forall j = 1, 2, \\dots, n\n",
        "   $$\n",
        "3. **Subtour elimination:**\n",
        "   $$\n",
        "   u_i - u_j + n x_{ij} \\leq n - 1 \\quad \\forall i, j = 2, 3, \\dots, n; i \\neq j\n",
        "   $$\n",
        "4. **Variable bounds:**\n",
        "   $$\n",
        "   x_{ij} \\in \\{0, 1\\} \\quad \\forall i, j = 1, 2, \\dots, n; i \\neq j\n",
        "   $$\n",
        "   $$\n",
        "   u_i \\in \\mathbb{Z} \\quad \\forall i = 1, 2, \\dots, n\n",
        "   $$\n",
        "\n",
        "### Assumptions\n",
        "\n",
        "- Symmetric TSP: $( d_{ij} = d_{ji} $) for all $( i, j $).\n",
        "- No self-loops: $( d_{ii} = 0 $) for all $( i $).\n",
        "\n",
        "### Explanation\n",
        "\n",
        "The MTZ formulation uses the auxiliary variables $( u_i $) to prevent subtours by enforcing an ordering on the cities. This ensures that the solution forms a single tour rather than multiple disconnected subtours.\n",
        "\n",
        "This formulation is effective for solving the TSP and is widely used due to its simplicity and computational efficiency for moderate-sized instances."
      ],
      "metadata": {
        "id": "3ubE80PILPwt"
      }
    },
    {
      "cell_type": "markdown",
      "source": [
        "## 1.2 Fromulating the problem using Qiskit's QuadraticProgram\n",
        "\n",
        "\n"
      ],
      "metadata": {
        "id": "8BZY7QPTEaM3"
      }
    },
    {
      "cell_type": "code",
      "source": [
        "!pip install qiskit_optimization qiskit_algorithms\n",
        "!pip install dimod\n",
        "!pip install dwave-ocean-sdk"
      ],
      "metadata": {
        "id": "3v9KxSg1Nynt"
      },
      "execution_count": null,
      "outputs": []
    },
    {
      "cell_type": "code",
      "source": [
        "from qiskit_optimization import QuadraticProgram\n",
        "from qiskit_optimization.converters import QuadraticProgramToQubo"
      ],
      "metadata": {
        "id": "If56aUI0O5dh"
      },
      "execution_count": null,
      "outputs": []
    },
    {
      "cell_type": "code",
      "source": [
        "def TSP_as_ILP(dist_matrix, print_model = False):\n",
        "\n",
        "\n",
        "  mod = QuadraticProgram(\"TSP\")\n",
        "\n",
        "  num_cities = len(dist_matrix)\n",
        "\n",
        "  for i in range(num_cities):\n",
        "      for j in range(num_cities):\n",
        "          if i != j:\n",
        "              mod.binary_var(f\"x_{i}_{j}\")\n",
        "  for i in range(num_cities):\n",
        "      mod.linear_constraint(linear={f\"x_{i}_{j}\": 1 for j in range(num_cities) if i != j}, sense='==', rhs=1, name=f'out_{i}')\n",
        "      mod.linear_constraint(linear  ={f\"x_{j}_{i}\": 1 for j in range(num_cities) if i != j}, sense='==', rhs=1, name=f'in_{i}')\n",
        "  t = {}\n",
        "  for i in range(num_cities):\n",
        "      t[i] = mod.integer_var(lowerbound=0, upperbound=num_cities-1, name=f't_{i}')\n",
        "  for i in range(1, num_cities):  # t_0 is fixed to 0, so start from i=1\n",
        "      for j in range(1, num_cities):  # Ensure i != j\n",
        "          if i != j:\n",
        "              mod.linear_constraint(\n",
        "                  linear={f\"t_{j}\": 1, f\"t_{i}\": -1, f\"x_{i}_{j}\": -(num_cities - 1)},\n",
        "                  sense='>=',\n",
        "                  rhs=1 - (num_cities - 1),\n",
        "                  name=f\"subtour_{i}_{j}\"\n",
        "              )\n",
        "  obj = {}\n",
        "  for i in range(num_cities):\n",
        "    for j in range(num_cities):\n",
        "        if i != j:\n",
        "            obj[f\"x_{i}_{j}\"] = dist_matrix[i][j]\n",
        "  mod.minimize(linear=obj)\n",
        "  print(mod.prettyprint())\n",
        "  return mod\n"
      ],
      "metadata": {
        "id": "TyMpUPwhOy4y"
      },
      "execution_count": null,
      "outputs": []
    },
    {
      "cell_type": "markdown",
      "source": [
        "## 1.3 Conversion from ILP to QUBO\n"
      ],
      "metadata": {
        "id": "qvhHWj_bGhYb"
      }
    },
    {
      "cell_type": "code",
      "source": [
        "def convert_ILP_to_QUBO(model, print_model = False):\n",
        "    qubo = QuadraticProgramToQubo().convert(model)\n",
        "\n",
        "    if print_model:\n",
        "        print(qubo.prettyprint())\n",
        "\n",
        "    return qubo"
      ],
      "metadata": {
        "id": "0qU0rNADPvV-"
      },
      "execution_count": null,
      "outputs": []
    },
    {
      "cell_type": "markdown",
      "source": [
        "## 1.4 Using a specific instance of the problem.\n"
      ],
      "metadata": {
        "id": "wkGmjiY7HE4y"
      }
    },
    {
      "cell_type": "code",
      "source": [
        "\n",
        "dist_matrix = [\n",
        "    [0, 2, 9,],\n",
        "    [2, 0, 6,],\n",
        "    [9, 6, 0,]\n",
        "]\n",
        "\n",
        "model = TSP_as_ILP(dist_matrix, print_model=True)\n",
        "\n",
        "qubo = convert_ILP_to_QUBO(model, print_model=True)"
      ],
      "metadata": {
        "id": "7ozNf5dzQM1v"
      },
      "execution_count": null,
      "outputs": []
    },
    {
      "cell_type": "markdown",
      "source": [
        "# 2. Classical PuLP Solver for **TSP**"
      ],
      "metadata": {
        "id": "hUsKO6CbEEu5"
      }
    },
    {
      "cell_type": "markdown",
      "source": [
        "### 2.1 Implementing the TSP solver using PuLP"
      ],
      "metadata": {
        "id": "bJ4nFNyaIPTo"
      }
    },
    {
      "cell_type": "markdown",
      "source": [
        "Install PuLP to solve the problem using integer linear programming,\n",
        "and import the required libraries."
      ],
      "metadata": {
        "id": "Sg-YCA-0nXkA"
      }
    },
    {
      "cell_type": "code",
      "source": [
        "!pip install pulp"
      ],
      "metadata": {
        "id": "4BqipipiQoTC",
        "outputId": "5d600ceb-7071-4ba8-d05d-7ab6924db309",
        "colab": {
          "base_uri": "https://localhost:8080/"
        }
      },
      "execution_count": 3,
      "outputs": [
        {
          "output_type": "stream",
          "name": "stdout",
          "text": [
            "Collecting pulp\n",
            "  Downloading PuLP-2.9.0-py3-none-any.whl.metadata (5.4 kB)\n",
            "Downloading PuLP-2.9.0-py3-none-any.whl (17.7 MB)\n",
            "\u001b[2K   \u001b[90m━━━━━━━━━━━━━━━━━━━━━━━━━━━━━━━━━━━━━━━━\u001b[0m \u001b[32m17.7/17.7 MB\u001b[0m \u001b[31m51.0 MB/s\u001b[0m eta \u001b[36m0:00:00\u001b[0m\n",
            "\u001b[?25hInstalling collected packages: pulp\n",
            "Successfully installed pulp-2.9.0\n"
          ]
        }
      ]
    },
    {
      "cell_type": "code",
      "source": [
        "from pulp import *\n",
        "import math\n",
        "from random import randrange\n",
        "import matplotlib.pyplot as plt\n",
        "from itertools import pairwise, permutations\n",
        "from time import perf_counter"
      ],
      "metadata": {
        "id": "S_0RxitFQ5s1"
      },
      "execution_count": 12,
      "outputs": []
    },
    {
      "cell_type": "markdown",
      "source": [
        "Here we define a function to generate the ILP model for the problem given a distance matrix for the nodes, using the MTZ formulation shown previously."
      ],
      "metadata": {
        "id": "a4MtFXlDcVTo"
      }
    },
    {
      "cell_type": "code",
      "source": [
        "def create_model(dists):\n",
        "    \"\"\"MTZ formulation for TSP\"\"\"\n",
        "    n = len(dists)\n",
        "    tsp = LpProblem(\"TSP\", LpMinimize)\n",
        "    # x_ij denotes if there is directed edge from node i to node j\n",
        "    x = LpVariable.dicts('x', [(i, j) for i in range(n) for j in range(n)], cat=LpBinary)\n",
        "    # u_i represents the order/rank of node i\n",
        "    u = LpVariable.dicts('u', range(n), 1, n, LpContinuous)\n",
        "\n",
        "    # add the objective function\n",
        "    tsp += lpSum(dists[i][j] * x[(i, j)] for i in range(n) for j in range(n))\n",
        "\n",
        "    # add the constraints\n",
        "    for i in range(n):\n",
        "        tsp += x[(i, i)] == 0 # no loops\n",
        "        tsp += lpSum(x[(i, j)] for j in range(n)) == 1 # outdegree == 1\n",
        "        tsp += lpSum(x[(j, i)] for j in range(n)) == 1 # indegree == 1\n",
        "\n",
        "    for i in range(n):\n",
        "        for j in range(n):\n",
        "            if i != j and i != 0 and j != 0:\n",
        "                tsp += u[i] - u[j] + n*x[(i, j)] <= n - 1 # subtour elimination\n",
        "\n",
        "    return tsp, x, u"
      ],
      "metadata": {
        "id": "pUrb3vg0Q__W"
      },
      "execution_count": 5,
      "outputs": []
    },
    {
      "cell_type": "markdown",
      "source": [
        "Create some implementations to solve the TSP using brute force and backtracking techniques."
      ],
      "metadata": {
        "id": "vngD1fuzn4OA"
      }
    },
    {
      "cell_type": "code",
      "source": [
        "def brute_force(dists):\n",
        "    \"\"\"Iterates over all possible routes to find the minimum. O(n!)\"\"\"\n",
        "    n = len(dists)\n",
        "    min_dist = math.inf\n",
        "    min_route = None\n",
        "    for route in permutations(range(1, n)):\n",
        "        dist = 0\n",
        "        u = 0\n",
        "        for v in route:\n",
        "            dist += dists[u][v]\n",
        "            u = v\n",
        "        dist += dists[u][0]\n",
        "        if dist < min_dist:\n",
        "            min_dist = dist\n",
        "            min_route = route\n",
        "    return min_dist, list(pairwise([0] + list(min_route) + [0]))\n",
        "\n",
        "def _backtracking(dists, u, dist, route, min_dist, min_route):\n",
        "    \"\"\"\n",
        "    Backtracking implementation.\n",
        "    Also O(n!), but should be faster than the naive implementation.\n",
        "    \"\"\"\n",
        "    if dist >= min_dist[0]:\n",
        "        # if the current distance is not lower than the minimum\n",
        "        # we have found so far, don't explore this route further.\n",
        "        return\n",
        "\n",
        "    n = len(dists)\n",
        "    if len(route) == n:\n",
        "        dist += dists[u][0]\n",
        "        if dist < min_dist[0]:\n",
        "            min_dist[0] = dist\n",
        "            min_route[:] = route + [0]\n",
        "        return\n",
        "\n",
        "    for v in range(n):\n",
        "        if v == u or v in route:\n",
        "            continue\n",
        "        route.append(v)\n",
        "        _backtracking(dists, v, dist + dists[u][v], route, min_dist, min_route)\n",
        "        route.pop()\n",
        "    return\n",
        "def backtracking(dists):\n",
        "    dist, route = [math.inf], [] # hack for pass by reference in python\n",
        "    _backtracking(dists, 0, 0, [0], dist, route)\n",
        "    return dist, list(pairwise(route))"
      ],
      "metadata": {
        "id": "pzP_-XkcRv_D"
      },
      "execution_count": 6,
      "outputs": []
    },
    {
      "cell_type": "markdown",
      "source": [
        "Here we define functions to generate a sample distance matrix for the problem."
      ],
      "metadata": {
        "id": "lioQ8N3rcyqY"
      }
    },
    {
      "cell_type": "code",
      "source": [
        "def distance(a, b):\n",
        "    \"\"\"Calculates the Euclidean distance between two points.\"\"\"\n",
        "    return math.sqrt((a[0] - b[0])**2 + (a[1] - b[1])**2)\n",
        "\n",
        "def generate_data(n):\n",
        "    \"\"\"Generates a random set of n points and the distances between them.\"\"\"\n",
        "    coords = [(randrange(100), randrange(100)) for _ in range(n)]\n",
        "    dists = [[0] * n for _ in range(n)]\n",
        "    for i in range(n):\n",
        "        for j in range(i + 1, n):\n",
        "            dists[i][j] = dists[j][i] = distance(coords[i], coords[j])\n",
        "    return dists, coords"
      ],
      "metadata": {
        "id": "YycV6mrVRTab"
      },
      "execution_count": 7,
      "outputs": []
    },
    {
      "cell_type": "markdown",
      "source": [
        "Generate a distance matrix with $n$ nodes, and create a function to plot the route we find."
      ],
      "metadata": {
        "id": "-0ZLEmP6tAXa"
      }
    },
    {
      "cell_type": "code",
      "source": [
        "n = 10\n",
        "dists, coords = generate_data(n)\n",
        "\n",
        "# plot the points\n",
        "plt.plot(coords[0][0], coords[0][1], 'ro')\n",
        "plt.plot([p[0] for p in coords[1:]], [p[1] for p in coords[1:]], 'o')\n",
        "plt.show()\n",
        "\n",
        "def plot_route(route):\n",
        "    plt.plot(coords[0][0], coords[0][1], 'ro')\n",
        "    for u, v in route:\n",
        "        plt.plot([coords[u][0], coords[v][0]], [coords[u][1], coords[v][1]], 'b')\n"
      ],
      "metadata": {
        "id": "rgHhleeARQJz",
        "outputId": "a76b8260-21d7-4bee-e010-40d6fd711234",
        "colab": {
          "base_uri": "https://localhost:8080/",
          "height": 430
        }
      },
      "execution_count": null,
      "outputs": [
        {
          "output_type": "display_data",
          "data": {
            "text/plain": [
              "<Figure size 640x480 with 1 Axes>"
            ],
            "image/png": "[encoded data removed]"
          },
          "metadata": {}
        }
      ]
    },
    {
      "cell_type": "markdown",
      "source": [
        "Create and solve the ILP model, and plot the solution."
      ],
      "metadata": {
        "id": "eLvjyUintQ6B"
      }
    },
    {
      "cell_type": "code",
      "source": [
        "model, x, _ = create_model(dists)\n",
        "status = model.solve()\n",
        "print(LpStatus[status], pulp.value(model.objective))\n",
        "route = [(i, j) for i in range(n) for j in range(n) if pulp.value(x[(i, j)]) == 1]\n",
        "print(route)\n",
        "plot_route(route)"
      ],
      "metadata": {
        "id": "tGPBzNaNRpMi",
        "outputId": "096bfe23-222c-469b-bff8-57248bd38a93",
        "colab": {
          "base_uri": "https://localhost:8080/",
          "height": 465
        }
      },
      "execution_count": null,
      "outputs": [
        {
          "output_type": "stream",
          "name": "stdout",
          "text": [
            "Optimal 320.5201033639212\n",
            "[(0, 5), (1, 6), (2, 4), (3, 7), (4, 8), (5, 2), (6, 0), (7, 1), (8, 9), (9, 10), (10, 3)]\n"
          ]
        },
        {
          "output_type": "display_data",
          "data": {
            "text/plain": [
              "<Figure size 640x480 with 1 Axes>"
            ],
            "image/png": "[encoded data removed]"
          },
          "metadata": {}
        }
      ]
    },
    {
      "cell_type": "markdown",
      "source": [
        "Solve the problem using other techniques."
      ],
      "metadata": {
        "id": "M4kwtuK_tbNz"
      }
    },
    {
      "cell_type": "code",
      "source": [
        "dist, route = backtracking(dists)\n",
        "print(dist)\n",
        "print(route)\n",
        "plot_route(route)"
      ],
      "metadata": {
        "id": "5gwgX0GFRzP0",
        "outputId": "ff2a35e6-8963-49a1-d598-6d8f3075fe3b",
        "colab": {
          "base_uri": "https://localhost:8080/",
          "height": 465
        }
      },
      "execution_count": null,
      "outputs": [
        {
          "output_type": "stream",
          "name": "stdout",
          "text": [
            "[320.5201033639212]\n",
            "[(0, 6), (6, 1), (1, 7), (7, 3), (3, 10), (10, 9), (9, 8), (8, 4), (4, 2), (2, 5), (5, 0)]\n"
          ]
        },
        {
          "output_type": "display_data",
          "data": {
            "text/plain": [
              "<Figure size 640x480 with 1 Axes>"
            ],
            "image/png": "[encoded data removed]"
          },
          "metadata": {}
        }
      ]
    },
    {
      "cell_type": "code",
      "source": [
        "dist, route = brute_force(dists)\n",
        "print(dist)\n",
        "print(route)\n",
        "plot_route(route)"
      ],
      "metadata": {
        "id": "TriNfxUAt669",
        "outputId": "1a9a35ad-8af2-4fe4-b3d3-b563d6f8c3dc",
        "colab": {
          "base_uri": "https://localhost:8080/",
          "height": 465
        }
      },
      "execution_count": null,
      "outputs": [
        {
          "output_type": "stream",
          "name": "stdout",
          "text": [
            "320.5201033639212\n",
            "[(0, 6), (6, 1), (1, 7), (7, 3), (3, 10), (10, 9), (9, 8), (8, 4), (4, 2), (2, 5), (5, 0)]\n"
          ]
        },
        {
          "output_type": "display_data",
          "data": {
            "text/plain": [
              "<Figure size 640x480 with 1 Axes>"
            ],
            "image/png": "[encoded data removed]"
          },
          "metadata": {}
        }
      ]
    },
    {
      "cell_type": "markdown",
      "source": [
        "We can see that the ILP solution is optimal because it matches that of the brute force implementation."
      ],
      "metadata": {
        "id": "J7xFbFcUzw9Y"
      }
    },
    {
      "cell_type": "markdown",
      "source": [
        "### 2.2 Analysis of Results"
      ],
      "metadata": {
        "id": "4JWiJmqVIiU-"
      }
    },
    {
      "cell_type": "code",
      "source": [
        "samples = 3\n",
        "N = 14\n",
        "sizes = range(1, N)\n",
        "problems = [(n, [generate_data(n)[0] for _ in range(samples)]) for n in sizes]\n",
        "\n",
        "ilp_times = []\n",
        "for n, dists in problems:\n",
        "    total_time  = 0\n",
        "    for dist in dists:\n",
        "        start = perf_counter()\n",
        "        model, x, _ = create_model(dist)\n",
        "        status = model.solve()\n",
        "        total_time += perf_counter() - start\n",
        "    ilp_times.append(total_time / samples)\n",
        "\n",
        "backtracking_times = []\n",
        "for n, dists in problems:\n",
        "    total_time  = 0\n",
        "    for dist in dists:\n",
        "        start = perf_counter()\n",
        "        backtracking(dist)\n",
        "        total_time += perf_counter() - start\n",
        "    backtracking_times.append(total_time / samples)\n",
        "\n",
        "\n",
        "\n",
        "plt.plot(sizes, [(1e3)*t for t in ilp_times], '-ro')\n",
        "plt.plot(sizes, [(1e3)*t for t in backtracking_times], '-bo')\n",
        "plt.xlabel(\"Number of nodes\")\n",
        "plt.ylabel(\"Time (ms)\")\n",
        "plt.show()"
      ],
      "metadata": {
        "id": "Sqg_pAjj0Gbv",
        "outputId": "6d90ab5b-8cf9-40fc-af55-2b3a82435a3d",
        "colab": {
          "base_uri": "https://localhost:8080/",
          "height": 449
        }
      },
      "execution_count": 33,
      "outputs": [
        {
          "output_type": "display_data",
          "data": {
            "text/plain": [
              "<Figure size 640x480 with 1 Axes>"
            ],
            "image/png": "[encoded data removed]"
          },
          "metadata": {}
        }
      ]
    },
    {
      "cell_type": "markdown",
      "source": [],
      "metadata": {
        "id": "426qoU1_OuZA"
      }
    },
    {
      "cell_type": "markdown",
      "source": [
        "# 3. Brute Force Solver for QUBO Formulation"
      ],
      "metadata": {
        "id": "XOB3cSctHeEa"
      }
    },
    {
      "cell_type": "markdown",
      "source": [
        "### 3.1 Brute Force Solution Approach\n"
      ],
      "metadata": {
        "id": "KEU5Z9qWItBx"
      }
    },
    {
      "cell_type": "markdown",
      "source": [
        "### 3.2 Implementation and Testing\n"
      ],
      "metadata": {
        "id": "Vg954gLhIs1i"
      }
    },
    {
      "cell_type": "markdown",
      "source": [
        "# 4. Quantum Annealing Simulators to solve the QUBO"
      ],
      "metadata": {
        "id": "opQJykrPHekZ"
      }
    },
    {
      "cell_type": "markdown",
      "source": [
        "#### 4.1 Setting up the Quantum Annealing Simulator"
      ],
      "metadata": {
        "id": "NLvZFG8NJRj5"
      }
    },
    {
      "cell_type": "code",
      "source": [],
      "metadata": {
        "id": "MHdZeYvhKmYV"
      },
      "execution_count": null,
      "outputs": []
    },
    {
      "cell_type": "markdown",
      "source": [
        "#### 4.2 Solving TSP Instances\n"
      ],
      "metadata": {
        "id": "-UTkCUoKJRPd"
      }
    },
    {
      "cell_type": "markdown",
      "source": [
        "#### 4.3 Analysis of Quantum Annealing Results"
      ],
      "metadata": {
        "id": "gG4OmE1EJRB3"
      }
    },
    {
      "cell_type": "markdown",
      "source": [
        "# 5. Comparative Analysis and Conclusion"
      ],
      "metadata": {
        "id": "6jD6C6GGJ-AR"
      }
    },
    {
      "cell_type": "markdown",
      "source": [
        "#### 5.1 Comparative Performance Analysis\n"
      ],
      "metadata": {
        "id": "LCvNRVkBKrK6"
      }
    },
    {
      "cell_type": "markdown",
      "source": [
        "#### 5.2 Conclusion\n"
      ],
      "metadata": {
        "id": "pupC_TlIKqXk"
      }
    }
  ]
}